{
 "cells": [
  {
   "cell_type": "code",
   "execution_count": 1,
   "id": "3b201f31-9cec-44b2-9121-5dfaba59a28a",
   "metadata": {},
   "outputs": [
    {
     "name": "stdout",
     "output_type": "stream",
     "text": [
      "Requirement already satisfied: requests in c:\\users\\ayiwoma\\anaconda4\\lib\\site-packages (2.31.0)\n",
      "Requirement already satisfied: charset-normalizer<4,>=2 in c:\\users\\ayiwoma\\anaconda4\\lib\\site-packages (from requests) (2.0.4)\n",
      "Requirement already satisfied: idna<4,>=2.5 in c:\\users\\ayiwoma\\anaconda4\\lib\\site-packages (from requests) (3.4)\n",
      "Requirement already satisfied: urllib3<3,>=1.21.1 in c:\\users\\ayiwoma\\anaconda4\\lib\\site-packages (from requests) (2.0.7)\n",
      "Requirement already satisfied: certifi>=2017.4.17 in c:\\users\\ayiwoma\\anaconda4\\lib\\site-packages (from requests) (2024.2.2)\n",
      "Note: you may need to restart the kernel to use updated packages.\n"
     ]
    }
   ],
   "source": [
    "pip install requests"
   ]
  },
  {
   "cell_type": "code",
   "execution_count": null,
   "id": "0994a954-7f3b-4ed0-aabe-b10cf6f721ed",
   "metadata": {},
   "outputs": [],
   "source": [
    "import requests\n",
    "\n",
    "# Define the URL for the CityBikes API endpoint for bike-sharing networks\n",
    "url = 'https://api.citybik.es/v2/networks'\n",
    "\n",
    "# Make a GET request to the API endpoint\n",
    "response = requests.get(url)\n",
    "\n",
    "# Check if the request was successful (status code 200)\n",
    "if response.status_code == 200:\n",
    "    # Extract the JSON data from the response\n",
    "    data = response.json()\n",
    "\n",
    "     \n",
    "    # Print the response data\n",
    "    print(data)\n",
    "else:\n",
    "    # Print an error message if the request was not successful\n",
    "    print(f\"Error: Unable to fetch data. Status code: {response.status_code}\")\n"
   ]
  },
  {
   "cell_type": "code",
   "execution_count": 1,
   "id": "adc540b2-67fe-4faa-b43c-4610d01da00a",
   "metadata": {},
   "outputs": [
    {
     "name": "stdout",
     "output_type": "stream",
     "text": [
      "001023 - River Street , Clerkenwell\n",
      "001018 - Phillimore Gardens, Kensington\n",
      "001024 - Park Street, Bankside\n",
      "001022 - Brunswick Square, Bloomsbury\n",
      "000980 - Malet Street, Bloomsbury\n"
     ]
    }
   ],
   "source": [
    "import requests\n",
    "\n",
    "# Define the URL for the CityBikes API endpoint for London\n",
    "url = 'https://api.citybik.es/v2/networks/santander-cycles'\n",
    "\n",
    "# Make a GET request to the API endpoint\n",
    "response = requests.get(url)\n",
    "\n",
    "# Check if the request was successful (status code 200)\n",
    "if response.status_code == 200:\n",
    "    # Extract the JSON data from the response\n",
    "    data = response.json()\n",
    "    \n",
    "    # Extract relevant information for each bike station\n",
    "    stations_data = data['network']['stations']\n",
    "\n",
    "    # Limit the number of stations to 5\n",
    "    stations_data = stations_data[:5]\n",
    "    \n",
    "    # Extract only the bike station names\n",
    "    station_names = [station['name'] for station in stations_data]\n",
    "    \n",
    "    # Display the station names\n",
    "    for name in station_names:\n",
    "        print(name)\n",
    "else:\n",
    "    # Print an error message if the request was not successful\n",
    "    print(f\"Error: Unable to fetch data. Status code: {response.status_code}\")"
   ]
  },
  {
   "cell_type": "code",
   "execution_count": 2,
   "id": "c71298c1-1095-41dd-afe4-b4d8c663102a",
   "metadata": {},
   "outputs": [
    {
     "name": "stdout",
     "output_type": "stream",
     "text": [
      "Station Name: 001023 - River Street , Clerkenwell\n",
      "Latitude: 51.52916347\n",
      "Longitude: -0.109970527\n",
      "Number of Bikes: 6\n",
      "\n",
      "Station Name: 001018 - Phillimore Gardens, Kensington\n",
      "Latitude: 51.49960695\n",
      "Longitude: -0.197574246\n",
      "Number of Bikes: 21\n",
      "\n",
      "Station Name: 001024 - Park Street, Bankside\n",
      "Latitude: 51.50597426\n",
      "Longitude: -0.092754157\n",
      "Number of Bikes: 2\n",
      "\n",
      "Station Name: 001022 - Brunswick Square, Bloomsbury\n",
      "Latitude: 51.52395143\n",
      "Longitude: -0.122502346\n",
      "Number of Bikes: 12\n",
      "\n",
      "Station Name: 000980 - Malet Street, Bloomsbury\n",
      "Latitude: 51.52168078\n",
      "Longitude: -0.130431727\n",
      "Number of Bikes: 1\n",
      "\n"
     ]
    }
   ],
   "source": [
    "import requests\n",
    "\n",
    "# Define the URL for the CityBikes API endpoint for London\n",
    "url = 'https://api.citybik.es/v2/networks/santander-cycles'\n",
    "\n",
    "# Make a GET request to the API endpoint\n",
    "response = requests.get(url)\n",
    "\n",
    "# Check if the request was successful (status code 200)\n",
    "if response.status_code == 200:\n",
    "    # Extract the JSON data from the response\n",
    "    data = response.json()\n",
    "    \n",
    "    # Extract relevant information for each bike station\n",
    "    stations_data = data['network']['stations']\n",
    "\n",
    "    # Limit the number of stations to 5\n",
    "    stations_data = stations_data[:5]\n",
    "    \n",
    "    # Iterate over each bike station and retrieve latitude, longitude, and number of bikes\n",
    "    for station in stations_data:\n",
    "        station_name = station['name']\n",
    "        latitude = station['latitude']\n",
    "        longitude = station['longitude']\n",
    "        num_bikes = station['free_bikes']\n",
    "        \n",
    "        # Print information for each bike station\n",
    "        print(f\"Station Name: {station_name}\")\n",
    "        print(f\"Latitude: {latitude}\")\n",
    "        print(f\"Longitude: {longitude}\")\n",
    "        print(f\"Number of Bikes: {num_bikes}\")\n",
    "        print()\n",
    "else:\n",
    "    # Print an error message if the request was not successful\n",
    "    print(f\"Error: Unable to fetch data. Status code: {response.status_code}\")"
   ]
  },
  {
   "cell_type": "code",
   "execution_count": 3,
   "id": "2d733371-7e43-4547-9aab-90c9afd9b4f8",
   "metadata": {},
   "outputs": [
    {
     "name": "stdout",
     "output_type": "stream",
     "text": [
      "                                   Station   Latitude  Longitude  \\\n",
      "0      001023 - River Street , Clerkenwell  51.529163  -0.109971   \n",
      "1  001018 - Phillimore Gardens, Kensington  51.499607  -0.197574   \n",
      "2           001024 - Park Street, Bankside  51.505974  -0.092754   \n",
      "3    001022 - Brunswick Square, Bloomsbury  51.523951  -0.122502   \n",
      "4        000980 - Malet Street, Bloomsbury  51.521681  -0.130432   \n",
      "\n",
      "   Number of Bikes  \n",
      "0                6  \n",
      "1               21  \n",
      "2                2  \n",
      "3               12  \n",
      "4                1  \n"
     ]
    }
   ],
   "source": [
    "import requests\n",
    "import pandas as pd\n",
    "\n",
    "# Define the URL for the CityBikes API endpoint for London\n",
    "url = 'https://api.citybik.es/v2/networks/santander-cycles'\n",
    "\n",
    "# Make a GET request to the API endpoint\n",
    "response = requests.get(url)\n",
    "\n",
    "# Check if the request was successful (status code 200)\n",
    "if response.status_code == 200:\n",
    "    # Extract the JSON data from the response\n",
    "    data = response.json()\n",
    "    \n",
    "    # Extract relevant information for each bike station\n",
    "    stations_data = data['network']['stations']\n",
    "    \n",
    "    # Limit the number of stations to 5\n",
    "    stations_data = stations_data[:5]\n",
    "    \n",
    "    # Create a list to store dictionaries containing station information\n",
    "    station_info = []\n",
    "    \n",
    "    # Iterate over each bike station and extract relevant information\n",
    "    for station in stations_data:\n",
    "        station_info.append({\n",
    "            'Station': station['name'],\n",
    "            'Latitude': station['latitude'],\n",
    "            'Longitude': station['longitude'],\n",
    "            'Number of Bikes': station['free_bikes']\n",
    "        })\n",
    "    \n",
    "    # Create a Pandas DataFrame from the list of dictionaries\n",
    "    df = pd.DataFrame(station_info)\n",
    "    \n",
    "    # Display the DataFrame\n",
    "    print(df)\n",
    "else:\n",
    "    # Print an error message if the request was not successful\n",
    "    print(f\"Error: Unable to fetch data. Status code: {response.status_code}\")"
   ]
  },
  {
   "cell_type": "code",
   "execution_count": null,
   "id": "a8348487-1ea9-4f37-9829-7849d26f74df",
   "metadata": {},
   "outputs": [],
   "source": []
  }
 ],
 "metadata": {
  "kernelspec": {
   "display_name": "Python 3 (ipykernel)",
   "language": "python",
   "name": "python3"
  },
  "language_info": {
   "codemirror_mode": {
    "name": "ipython",
    "version": 3
   },
   "file_extension": ".py",
   "mimetype": "text/x-python",
   "name": "python",
   "nbconvert_exporter": "python",
   "pygments_lexer": "ipython3",
   "version": "3.11.7"
  }
 },
 "nbformat": 4,
 "nbformat_minor": 5
}
