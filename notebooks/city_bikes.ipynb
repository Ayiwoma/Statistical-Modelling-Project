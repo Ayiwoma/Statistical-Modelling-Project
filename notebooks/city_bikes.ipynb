{
 "cells": [
  {
   "cell_type": "markdown",
   "metadata": {},
   "source": [
    "# CityBikes"
   ]
  },
  {
   "cell_type": "markdown",
   "metadata": {},
   "source": [
    "Send a request to CityBikes for the city of your choice. "
   ]
  },
# Define the URL for the CityBikes API endpoint for London
url = 'https://api.citybik.es/v2/networks/santander-cycles'

# Make a GET request to the API endpoint
response = requests.get(url)

# Check if the request was successful (status code 200)
if response.status_code == 200:
    # Extract the JSON data from the response
    data = response.json()
    
    # Extract relevant information for each bike station
    stations_data = data['network']['stations']

    # Limit the number of stations to 5
    stations_data = stations_data[:5]
    
    # Extract only the bike station names
    station_names = [station['name'] for station in stations_data]
    
    # Display the station names
    for name in station_names:
        print(name)
else:
    # Print an error message if the request was not successful
    print(f"Error: Unable to fetch data. Status code: {response.status_code}")```


Results generated

001023 - River Street , Clerkenwell
001018 - Phillimore Gardens, Kensington
001024 - Park Street, Bankside
001022 - Brunswick Square, Bloomsbury
000980 - Malet Street, Bloomsbury
  {
   "cell_type": "code",
   "execution_count": null,
   "metadata": {},
   "outputs": [],
   "source": []
  },
  {
   "cell_type": "markdown",
   "metadata": {},
   "source": [
    "Parse through the response to get the details you want for the bike stations in that city (latitude, longitude, number of bikes). "
   ]
  },
  {
   "cell_type": "code",
   "execution_count": null,
   "metadata": {},
   "outputs": [],
   "source": []
  },
  {
   "cell_type": "markdown",
   "metadata": {},
   "source": [
    "Put your parsed results into a DataFrame."
   ]
  },
  {
   "cell_type": "code",
   "execution_count": null,
   "metadata": {},
   "outputs": [],
   "source": []
  }
 ],
 "metadata": {
  "kernelspec": {
   "display_name": "Python 3",
   "language": "python",
   "name": "python3"
  },
  "language_info": {
   "codemirror_mode": {
    "name": "ipython",
    "version": 3
   },
   "file_extension": ".py",
   "mimetype": "text/x-python",
   "name": "python",
   "nbconvert_exporter": "python",
   "pygments_lexer": "ipython3",
   "version": "3.8.5"
  }
 },
 "nbformat": 4,
 "nbformat_minor": 4
}
