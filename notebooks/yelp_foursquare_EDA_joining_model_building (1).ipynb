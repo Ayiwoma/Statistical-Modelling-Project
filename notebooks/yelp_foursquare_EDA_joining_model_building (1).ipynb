{
 "cells": [
  {
   "cell_type": "code",
   "execution_count": 253,
   "id": "d2e0cc1b-aa38-4fcd-a730-8cf806196f2f",
   "metadata": {},
   "outputs": [],
   "source": [
    "import requests\n",
    "import os\n",
    "\n",
    "def search_bike_stations(client_id, client_secret, location):\n",
    "   \n",
    "    url = \"https://api.foursquare.com/v3/places/search\"\n",
    "\n",
    "    FOURSQUARE_API_KEY = os.environ[\"FOURSQUARE_API_KEY\"]\n",
    "    headers = {\n",
    "        \"Accept\": \"application/json\",\n",
    "        \"Authorization\": FOURSQUARE_API_KEY\n",
    "    }\n",
    "\n",
    "    \n",
    "    params = {\n",
    "        \"client_id\": client_id,\n",
    "        \"client_secret\": client_secret,\n",
    "        \"v\": \"20220101\",  # API version\n",
    "        \"near\": location,  # Location to search for (e.g., \"London\")\n",
    "        \"query\": \"bike station\",  # Search query for bike stations\n",
    "        \"radius\": 1000,  # Radius in meters\n",
    "        \"limit\": 10  # Limiting to 10 results\n",
    "    }\n",
    "    response = requests.request(\"GET\", url, headers=headers)\n",
    "    return response.json()\n",
    "\n",
    "\n",
    "#print(FOURSQUARE_API_KEY)\n",
    "\n",
    "# Location to search for (e.g., \"London\")\n",
    "location = \"London, UK\"\n",
    "\n",
    "# Send a request to Foursquare for bike stations in London\n",
    "bike_stations_data = search_bike_stations(foursquare_client_id, foursquare_client_secret, location)\n",
    "\n",
    "print(bike_stations_data)\n",
    "\n"
   ]
  },
  {
   "cell_type": "code",
   "execution_count": 220,
   "id": "c3a7427d-bf0e-4ae8-8a37-176ee526f6e1",
   "metadata": {},
   "outputs": [
    {
     "name": "stdout",
     "output_type": "stream",
     "text": [
      "                                                name address    location  \\\n",
      "0                        Aldwych Underground Station     N/A  London, UK   \n",
      "1  London St Pancras International Railway Statio...     N/A  London, UK   \n",
      "2                          citizenM Victoria Station     N/A  London, UK   \n",
      "3         Machine Cycling Café/Bike Shop and Repairs     N/A  London, UK   \n",
      "4          London King's Cross Railway Station (KGX)     N/A  London, UK   \n",
      "5                                      The Bike Shed     N/A  London, UK   \n",
      "6                                      Bread by Bike     N/A  London, UK   \n",
      "7                                       On Your Bike     N/A  London, UK   \n",
      "8                              Waterloo Body Station     N/A  London, UK   \n",
      "9                Farringdon Station – Elizabeth Line     N/A  London, UK   \n",
      "\n",
      "                                          categories rating  \n",
      "0  [{'id': 16000, 'name': 'Landmarks and Outdoors...    N/A  \n",
      "1  [{'id': 19047, 'name': 'Rail Station', 'short_...    N/A  \n",
      "2  [{'id': 19014, 'name': 'Hotel', 'short_name': ...    N/A  \n",
      "3  [{'id': 17119, 'name': 'Bicycle Store', 'short...    N/A  \n",
      "4  [{'id': 19047, 'name': 'Rail Station', 'short_...    N/A  \n",
      "5  [{'id': 13003, 'name': 'Bar', 'short_name': 'B...    N/A  \n",
      "6  [{'id': 13002, 'name': 'Bakery', 'short_name':...    N/A  \n",
      "7  [{'id': 17119, 'name': 'Bicycle Store', 'short...    N/A  \n",
      "8  [{'id': 17030, 'name': 'Cosmetics Store', 'sho...    N/A  \n",
      "9  [{'id': 19047, 'name': 'Rail Station', 'short_...    N/A  \n"
     ]
    }
   ],
   "source": [
    "import requests\n",
    "import os\n",
    "import pandas as pd  # Import the pandas package\n",
    "\n",
    "def search_bike_stations(client_id, client_secret, location):\n",
    "    url = \"https://api.foursquare.com/v3/places/search\"\n",
    "    \n",
    "    FOURSQUARE_API_KEY = os.environ[\"FOURSQUARE_API_KEY\"]\n",
    "    \n",
    "    headers = {\n",
    "        \"Accept\": \"application/json\",\n",
    "        \"Authorization\": FOURSQUARE_API_KEY\n",
    "    }\n",
    "\n",
    "    params = {\n",
    "        \"client_id\": client_id,\n",
    "        \"client_secret\": client_secret,\n",
    "        \"v\": \"20220101\",  # API version\n",
    "        \"near\": location,  # Location to search for (e.g., \"London\")\n",
    "        \"query\": \"bike station\",  # Search query for bike stations\n",
    "        \"limit\": 10  # Limiting to 10 results\n",
    "    }\n",
    "    \n",
    "    response = requests.get(url, headers=headers, params=params)  # Use get() method to include the parameters in the API call\n",
    "    if response.status_code == 200:\n",
    "        return response.json()  # Return the JSON response\n",
    "    else:\n",
    "        print(f\"Failed to retrieve data: {response.status_code}\")\n",
    "        return None\n",
    "\n",
    "# Assuming foursquare_client_id and foursquare_client_secret are defined\n",
    "location = \"London, UK\"\n",
    "bike_stations_data = search_bike_stations(foursquare_client_id, foursquare_client_secret, location)\n",
    "\n",
    "# Parse through the response and create a DataFrame\n",
    "if bike_stations_data:\n",
    "    # Extract relevant information from the JSON response\n",
    "    bike_stations = []\n",
    "    for result in bike_stations_data.get('results', []):  # Use get() method to provide a default value if key is not found\n",
    "        fsq_id = result.get('fsq_id', 'N/A')\n",
    "        name = result.get('name', 'N/A')\n",
    "        categories = result.get('categories', 'N/A')\n",
    "        address = result.get('address', 'N/A')\n",
    "        rating = result.get('rating', 'N/A')\n",
    "        # Extract other relevant information from the result\n",
    "        \n",
    "        bike_stations.append({'name': name, 'address': address, 'location': location, 'categories': categories, 'rating': rating})  # Append the extracted information to the list\n",
    "    # Create a DataFrame from the extracted data\n",
    "    bike_stations_df = pd.DataFrame(bike_stations)\n",
    "    print(bike_stations_df)\n",
    "else:\n",
    "    print(\"No data available to create DataFrame\")"
   ]
  },
  {
   "cell_type": "code",
   "execution_count": 221,
   "id": "cd4845ad-3a15-434e-8023-944281cf9709",
   "metadata": {},
   "outputs": [
    {
     "name": "stdout",
     "output_type": "stream",
     "text": [
      "{'businesses': [{'id': 'oK_SLmmAVQg3meguh7LrIA', 'alias': 'dishoom-london', 'name': 'Dishoom', 'image_url': 'https://s3-media4.fl.yelpcdn.com/bphoto/bO9vDl04b81z4mjnMgFEOg/o.jpg', 'is_closed': False, 'url': 'https://www.yelp.com/biz/dishoom-london?adjust_creative=3Hby0XniStF519qjv3IVIg&utm_campaign=yelp_api_v3&utm_medium=api_v3_business_search&utm_source=3Hby0XniStF519qjv3IVIg', 'review_count': 2555, 'categories': [{'alias': 'indpak', 'title': 'Indian'}], 'rating': 4.5, 'coordinates': {'latitude': 51.512447030091, 'longitude': -0.1269579217873}, 'transactions': [], 'price': '££', 'location': {'address1': \"12 Upper Saint Martin's Lane\", 'address2': '', 'address3': '', 'city': 'London', 'zip_code': 'WC2H 9FB', 'country': 'GB', 'state': 'XGL', 'display_address': [\"12 Upper Saint Martin's Lane\", 'London WC2H 9FB', 'United Kingdom']}, 'phone': '+442074209320', 'display_phone': '+44 20 7420 9320', 'distance': 564.2211579994282, 'attributes': {'business_temp_closed': None, 'menu_url': 'http://www.dishoom.com/food-drink/', 'open24_hours': None, 'waitlist_reservation': None}}], 'total': 1900, 'region': {'center': {'longitude': -0.1278, 'latitude': 51.5074}}}\n"
     ]
    }
   ],
   "source": [
    "#A request to Yelp with a small radius (1000m) for all the bike stations in London.\n",
    "import requests\n",
    "import os\n",
    "\n",
    "def search_yelp_nearby(api_key, coordinates):\n",
    "    url = \"https://api.yelp.com/v3/businesses/search\"\n",
    "    headers = {\n",
    "        \"Authorization\": f\"Bearer {api_key}\"\n",
    "    }\n",
    "    params = {\n",
    "        \"latitude\": coordinates.split(',')[0],  # Extracting latitude from coordinates\n",
    "        \"longitude\": coordinates.split(',')[1],  # Extracting longitude from coordinates\n",
    "        \"radius\": 1000,  # Radius in meters\n",
    "        \"categories\": \"restaurants,bars\",  # Search for restaurants and bars\n",
    "        \"limit\": 1  # Limiting to 1 result\n",
    "    }\n",
    "    response = requests.get(url, headers=headers, params=params)\n",
    "    return response.json()\n",
    "\n",
    "# Example coordinates of a bike station in London\n",
    "london_bike_station_coordinates = \"51.5074,-0.1278\"  # Latitude and longitude of central London\n",
    "\n",
    "# Replace YOUR_YELP_API_KEY with your actual Yelp API key\n",
    "yelp_api_key = YELP_API_KEY\n",
    "\n",
    "# Send a request to Yelp for nearby businesses\n",
    "yelp_nearby_data = search_yelp_nearby(yelp_api_key, london_bike_station_coordinates)\n",
    "\n",
    "# Print the response\n",
    "print(yelp_nearby_data)\n"
   ]
  },
  {
   "cell_type": "code",
   "execution_count": 222,
   "id": "d07b82fa-c1b6-49ab-b410-530598b2163a",
   "metadata": {},
   "outputs": [
    {
     "name": "stdout",
     "output_type": "stream",
     "text": [
      "                    Name                             Category  \\\n",
      "0                Dishoom                               Indian   \n",
      "1          The Admiralty                                 Pubs   \n",
      "2              Barrafina                              Spanish   \n",
      "3             Steak & Co                 Steakhouses, British   \n",
      "4              Flat Iron                          Steakhouses   \n",
      "5           The Northall                      Modern European   \n",
      "6  Hawksmoor Seven Dials  British, Steakhouses, Cocktail Bars   \n",
      "7             Wild Honey              Modern European, French   \n",
      "8                 Wahaca                              Mexican   \n",
      "9              Flat Iron                          Steakhouses   \n",
      "\n",
      "                        Address  Rating                              Location  \n",
      "0  12 Upper Saint Martin's Lane     4.5     51.512447030091, -0.1269579217873  \n",
      "1           66 Trafalgar Square     3.9                  51.507241, -0.128521  \n",
      "2            10 Adelaide Street     4.6                51.5093806, -0.1258185  \n",
      "3        3/5 Charing Cross Road     3.8  51.5097794728296, -0.128617345486412  \n",
      "4        17-18 Henrietta Street     4.6  51.5108326561998, -0.124100585093387  \n",
      "5     10a Northumberland Avenue     4.3  51.5066782055573, -0.124324303556782  \n",
      "6             11 Langley Street     4.4   51.5134998914001, -0.12567396291297  \n",
      "7                   8 Pall Mall     4.1                51.5074559, -0.1321665  \n",
      "8              66 Chandos Place     3.9                51.5103409, -0.1245423  \n",
      "9                17 Beak Street     4.5                  51.51212, -0.1384008  \n"
     ]
    }
   ],
   "source": [
    "#Parse through the response to get the Points of Interest such as restaurants, bars\n",
    "#details include ratings, name, location and results are put into a DataFrame\n",
    "import pandas as pd\n",
    "import requests\n",
    "import os\n",
    "\n",
    "def search_yelp_nearby(api_key, coordinates):\n",
    "    url = \"https://api.yelp.com/v3/businesses/search\"\n",
    "    headers = {\n",
    "        \"Authorization\": f\"Bearer {api_key}\"\n",
    "    }\n",
    "    params = {\n",
    "        \"latitude\": coordinates.split(',')[0],  # Extracting latitude from coordinates\n",
    "        \"longitude\": coordinates.split(',')[1],  # Extracting longitude from coordinates\n",
    "        \"radius\": 1000,  # Radius in meters\n",
    "        \"categories\": \"restaurants,bars\",  # Search for restaurants and bars\n",
    "        \"limit\": 10  # Limiting to 10 results\n",
    "    }\n",
    "    response = requests.get(url, headers=headers, params=params)\n",
    "    return response.json()\n",
    "\n",
    "# Example coordinates of a bike station in London\n",
    "london_bike_station_coordinates = \"51.5074,-0.1278\"  # Latitude and longitude of central London\n",
    "\n",
    "# Replace YOUR_YELP_API_KEY with your actual Yelp API key\n",
    "yelp_api_key = YELP_API_KEY\n",
    "\n",
    "# Send a request to Yelp for nearby businesses\n",
    "yelp_nearby_data = search_yelp_nearby(yelp_api_key, london_bike_station_coordinates)\n",
    "\n",
    "# Extract relevant information from the response\n",
    "businesses = yelp_nearby_data['businesses']\n",
    "business_details = []\n",
    "for business in businesses:\n",
    "    name = business['name']\n",
    "    category = ', '.join([cat['title'] for cat in business['categories']])\n",
    "    address = business['location']['address1'] if 'address1' in business['location'] else 'N/A'\n",
    "    rating = business['rating'] if 'rating' in business else 'N/A'\n",
    "    location = f\"{business['coordinates']['latitude']}, {business['coordinates']['longitude']}\"\n",
    "    business_details.append({'Name': name, 'Category': category, 'Address': address, 'Rating': rating, 'Location': location})\n",
    "\n",
    "# Create a DataFrame\n",
    "yelp_df = pd.DataFrame(business_details)\n",
    "\n",
    "# Print the DataFrame\n",
    "print(yelp_df)\n"
   ]
  },
  {
   "cell_type": "code",
   "execution_count": 223,
   "id": "837ab65f-9007-46f3-a0d2-58aff62dd9ba",
   "metadata": {},
   "outputs": [
    {
     "name": "stdout",
     "output_type": "stream",
     "text": [
      "\n",
      "Top 10 Restaurants from Yelp:\n",
      "1. African Volcano, Rating: 5.0\n",
      "2. Nepa Coffee & Food, Rating: 5.0\n",
      "3. Rainforest Creations, Rating: 5.0\n",
      "4. Skewers, Rating: 5.0\n",
      "5. Holloway Best Kebab, Rating: 5.0\n",
      "6. The Black Cab Coffee Co, Rating: 5.0\n",
      "7. Camberwell Arms, Rating: 5.0\n",
      "8. Blue Orchid Chinese Restaurant, Rating: 5.0\n",
      "9. Oi Vita Pizzeria, Rating: 5.0\n",
      "10. Chokhi Dhani, Rating: 5.0\n"
     ]
    }
   ],
   "source": [
    "import requests\n",
    "import os\n",
    "\n",
    "def search_top_restaurants_yelp(api_key, location):\n",
    "    url = \"https://api.yelp.com/v3/businesses/search\"\n",
    "    headers = {\n",
    "        \"Authorization\": f\"Bearer {api_key}\"\n",
    "    }\n",
    "    params = {\n",
    "        \"location\": location,\n",
    "        \"categories\": \"restaurants\",\n",
    "        \"sort_by\": \"rating\",\n",
    "        \"limit\": 10\n",
    "    }\n",
    "    response = requests.get(url, headers=headers, params=params)\n",
    "    return response.json()\n",
    "\n",
    "# Replace YOUR_YELP_API_KEY with your actual Yelp API key\n",
    "yelp_api_key = YELP_API_KEY\n",
    "\n",
    "# Location to search for (e.g., \"London\")\n",
    "location = \"London, UK\"\n",
    "\n",
    "# Get the top 10 restaurants according to their rating from Yelp\n",
    "top_restaurants_yelp = search_top_restaurants_yelp(yelp_api_key, location)\n",
    "\n",
    "# Print the top 10 restaurants\n",
    "print(\"\\nTop 10 Restaurants from Yelp:\")\n",
    "for idx, restaurant in enumerate(top_restaurants_yelp['businesses']):\n",
    "    print(f\"{idx + 1}. {restaurant['name']}, Rating: {restaurant.get('rating', 'N/A')}\")\n"
   ]
  },
  {
   "cell_type": "code",
   "execution_count": 224,
   "id": "df9957ef-1004-4c5c-befb-60b8f21f1311",
   "metadata": {},
   "outputs": [],
   "source": [
    "import requests\n",
    "import os\n",
    "\n",
    "def search_top_restaurants_foursquare(client_id, client_secret, location):\n",
    "    url = \"https://api.foursquare.com/v3/places/search\"\n",
    "    params = {\n",
    "        \"client_id\": client_id,\n",
    "        \"client_secret\": client_secret,\n",
    "        \"v\": \"20220101\",\n",
    "        \"near\": location,\n",
    "        \"categoryId\": \"4d4b7105d754a06374d81259\",  # Category ID for food\n",
    "        \"limit\": 10,\n",
    "        \"sortBy\": \"rating\"\n",
    "    }\n",
    "    response = requests.get(url, params=params)\n",
    "    return response.json()\n",
    "\n",
    "# Replace YOUR_FOURSQUARE_CLIENT_ID and YOUR_FOURSQUARE_CLIENT_SECRET with your actual Foursquare API credentials\n",
    "foursquare_client_id = \"FOURSQUARE_API_KEY\"\n",
    "foursquare_client_secret = \"FOURSQUARE_API_KEY\"\n",
    "\n",
    "# Location to search for (e.g., \"London\")\n",
    "location = \"London, UK\"\n",
    "\n",
    "# Get the top 10 restaurants according to their rating from Foursquare\n",
    "top_restaurants_foursquare = search_top_restaurants_foursquare(foursquare_client_id, foursquare_client_secret, location)\n",
    "\n",
    "\n"
   ]
  },
  {
   "cell_type": "code",
   "execution_count": 226,
   "id": "5a0eabf5-95a4-4de2-be31-f46bc756fa54",
   "metadata": {},
   "outputs": [
    {
     "name": "stdout",
     "output_type": "stream",
     "text": [
      "Data retrieved successfully.\n"
     ]
    }
   ],
   "source": [
    "def search_bike_stations(location):\n",
    "    FOURSQUARE_API_KEY = os.getenv(\"FOURSQUARE_API_KEY\")\n",
    "    if not FOURSQUARE_API_KEY:\n",
    "        print(\"FOURSQUARE_API_KEY is not set. Please check your environment variables.\")\n",
    "        return None\n",
    "\n",
    "    url = \"https://api.foursquare.com/v3/places/search\"\n",
    "\n",
    "    headers = {\n",
    "        \"Accept\": \"application/json\",\n",
    "        \"Authorization\": FOURSQUARE_API_KEY\n",
    "    }\n",
    "\n",
    "    params = {\n",
    "        \"v\": \"20220101\",\n",
    "        \"near\": location,\n",
    "        \"query\": \"bike station\",\n",
    "        # \"radius\": 1000,  # Commented out to test without radius\n",
    "        \"limit\": 10\n",
    "    }\n",
    "\n",
    "    response = requests.get(url, headers=headers, params=params)\n",
    "    if response.status_code == 200:\n",
    "        return response.json()\n",
    "    else:\n",
    "        print(f\"Failed to retrieve data: {response.status_code}\")\n",
    "        print(\"Error message:\", response.text)\n",
    "        return None\n",
    "\n",
    "location = \"London, UK\"\n",
    "bike_stations_data = search_bike_stations(location)\n",
    "if bike_stations_data:\n",
    "    print(\"Data retrieved successfully.\")\n",
    "else:\n",
    "    print(\"Failed to retrieve bike stations data.\")"
   ]
  },
  {
   "cell_type": "code",
   "execution_count": 227,
   "id": "14489fd4-26da-4ad4-ad67-320d9d155f11",
   "metadata": {},
   "outputs": [],
   "source": [
    "from IPython.display import JSON #for nice JSON (or dict) display in JupyterLab (not currently supported in Jupyter Notebook)"
   ]
  },
  {
   "cell_type": "code",
   "execution_count": 228,
   "id": "aa9093f2-bca4-4587-894c-2731e239d47f",
   "metadata": {},
   "outputs": [
    {
     "data": {
      "application/json": {
       "context": {
        "geo_bounds": {
         "circle": {
          "center": {
           "latitude": 51.50853,
           "longitude": -0.12574
          },
          "radius": 25968
         }
        }
       },
       "results": [
        {
         "categories": [
          {
           "icon": {
            "prefix": "https://ss3.4sqi.net/img/categories_v2/parks_outdoors/default_",
            "suffix": ".png"
           },
           "id": 16000,
           "name": "Landmarks and Outdoors",
           "plural_name": "Landmarks and Outdoors",
           "short_name": "Landmarks and Outdoors"
          }
         ],
         "chains": [],
         "closed_bucket": "VeryLikelyOpen",
         "distance": 791,
         "fsq_id": "4c222b9d497cb713c9e46cd8",
         "geocodes": {
          "main": {
           "latitude": 51.51210783292268,
           "longitude": -0.11583924293518065
          }
         },
         "link": "/v3/places/4c222b9d497cb713c9e46cd8",
         "location": {
          "admin_region": "England",
          "country": "GB",
          "cross_street": "at Surrey St",
          "formatted_address": "at Surrey St, London, Greater London, WC2R 2LS",
          "locality": "London",
          "post_town": "London",
          "postcode": "WC2R 2LS",
          "region": "Greater London"
         },
         "name": "Aldwych Underground Station",
         "related_places": {},
         "timezone": "Europe/London"
        },
        {
         "categories": [
          {
           "icon": {
            "prefix": "https://ss3.4sqi.net/img/categories_v2/travel/trainstation_",
            "suffix": ".png"
           },
           "id": 19047,
           "name": "Rail Station",
           "plural_name": "Rail Stations",
           "short_name": "Rail Station"
          }
         ],
         "chains": [],
         "closed_bucket": "VeryLikelyOpen",
         "distance": 2421,
         "fsq_id": "4ac518f7f964a520c6af20e3",
         "geocodes": {
          "main": {
           "latitude": 51.53026,
           "longitude": -0.125175
          },
          "roof": {
           "latitude": 51.53026,
           "longitude": -0.125175
          }
         },
         "link": "/v3/places/4ac518f7f964a520c6af20e3",
         "location": {
          "address": "Pancras Rd",
          "admin_region": "England",
          "country": "GB",
          "cross_street": "Euston Rd",
          "formatted_address": "Pancras Rd (Euston Rd), London, Greater London, NW1 2QP",
          "locality": "London",
          "post_town": "London",
          "postcode": "NW1 2QP",
          "region": "Greater London"
         },
         "name": "London St Pancras International Railway Station (STP)",
         "related_places": {
          "children": [
           {
            "categories": [
             {
              "icon": {
               "prefix": "https://ss3.4sqi.net/img/categories_v2/food/coffeeshop_",
               "suffix": ".png"
              },
              "id": 13035,
              "name": "Coffee Shop",
              "plural_name": "Coffee Shops",
              "short_name": "Coffee Shop"
             },
             {
              "icon": {
               "prefix": "https://ss3.4sqi.net/img/categories_v2/food/default_",
               "suffix": ".png"
              },
              "id": 13065,
              "name": "Restaurant",
              "plural_name": "Restaurants",
              "short_name": "Restaurant"
             }
            ],
            "fsq_id": "5af16c9fe1f0aa002cdf27c9",
            "name": "Nespresso Boutique"
           },
           {
            "categories": [
             {
              "icon": {
               "prefix": "https://ss3.4sqi.net/img/categories_v2/food/bakery_",
               "suffix": ".png"
              },
              "id": 13002,
              "name": "Bakery",
              "plural_name": "Bakeries",
              "short_name": "Bakery"
             },
             {
              "icon": {
               "prefix": "https://ss3.4sqi.net/img/categories_v2/food/default_",
               "suffix": ".png"
              },
              "id": 13077,
              "name": "Belgian Restaurant",
              "plural_name": "Belgian Restaurants",
              "short_name": "Belgian"
             },
             {
              "icon": {
               "prefix": "https://ss3.4sqi.net/img/categories_v2/food/default_",
               "suffix": ".png"
              },
              "id": 13138,
              "name": "Dutch Restaurant",
              "plural_name": "Dutch Restaurants",
              "short_name": "Dutch"
             }
            ],
            "fsq_id": "4ad6445cf964a520350621e3",
            "name": "Le Pain Quotidien"
           },
           {
            "categories": [
             {
              "icon": {
               "prefix": "https://ss3.4sqi.net/img/categories_v2/shops/food_grocery_",
               "suffix": ".png"
              },
              "id": 17069,
              "name": "Grocery Store",
              "plural_name": "Grocery Stores",
              "short_name": "Grocery Store"
             }
            ],
            "fsq_id": "4af53b8df964a5209ef821e3",
            "name": "M&S Simply Food"
           },
           {
            "categories": [
             {
              "icon": {
               "prefix": "https://ss3.4sqi.net/img/categories_v2/shops/apparel_",
               "suffix": ".png"
              },
              "id": 17043,
              "name": "Clothing Store",
              "plural_name": "Clothing Stores",
              "short_name": "Apparel"
             },
             {
              "icon": {
               "prefix": "https://ss3.4sqi.net/img/categories_v2/shops/apparel_lingerie_",
               "suffix": ".png"
              },
              "id": 17046,
              "name": "Lingerie Store",
              "plural_name": "Lingerie Stores",
              "short_name": "Lingerie"
             }
            ],
            "fsq_id": "5cb054ce356b49002c9b1a13",
            "name": "Calvin Klein"
           },
           {
            "categories": [
             {
              "icon": {
               "prefix": "https://ss3.4sqi.net/img/categories_v2/food/bakery_",
               "suffix": ".png"
              },
              "id": 13002,
              "name": "Bakery",
              "plural_name": "Bakeries",
              "short_name": "Bakery"
             },
             {
              "icon": {
               "prefix": "https://ss3.4sqi.net/img/categories_v2/food/tearoom_",
               "suffix": ".png"
              },
              "id": 13036,
              "name": "Tea Room",
              "plural_name": "Tea Rooms",
              "short_name": "Tea Room"
             },
             {
              "icon": {
               "prefix": "https://ss3.4sqi.net/img/categories_v2/food/default_",
               "suffix": ".png"
              },
              "id": 13065,
              "name": "Restaurant",
              "plural_name": "Restaurants",
              "short_name": "Restaurant"
             }
            ],
            "fsq_id": "528dc66111d287131419acec",
            "name": "Fortnum & Mason"
           },
           {
            "categories": [
             {
              "icon": {
               "prefix": "https://ss3.4sqi.net/img/categories_v2/nightlife/pub_",
               "suffix": ".png"
              },
              "id": 13006,
              "name": "Beer Bar",
              "plural_name": "Beer Bars",
              "short_name": "Beer Bar"
             },
             {
              "icon": {
               "prefix": "https://ss3.4sqi.net/img/categories_v2/nightlife/pub_",
               "suffix": ".png"
              },
              "id": 13018,
              "name": "Pub",
              "plural_name": "Pubs",
              "short_name": "Pub"
             },
             {
              "icon": {
               "prefix": "https://ss3.4sqi.net/img/categories_v2/food/default_",
               "suffix": ".png"
              },
              "id": 13065,
              "name": "Restaurant",
              "plural_name": "Restaurants",
              "short_name": "Restaurant"
             }
            ],
            "fsq_id": "5bb3a29b3ba767002cacd8c9",
            "name": "The Barrel Vault"
           },
           {
            "categories": [
             {
              "icon": {
               "prefix": "https://ss3.4sqi.net/img/categories_v2/building/medical_",
               "suffix": ".png"
              },
              "id": 15003,
              "name": "Alternative Medicine Clinic",
              "plural_name": "Alternative Medicine Clinics",
              "short_name": "Alternative Medicine Clinic"
             }
            ],
            "fsq_id": "4d974f339079b1f7a8740f0a",
            "name": "Neal's Yard Remedies"
           },
           {
            "categories": [
             {
              "icon": {
               "prefix": "https://ss3.4sqi.net/img/categories_v2/food/italian_",
               "suffix": ".png"
              },
              "id": 13236,
              "name": "Italian Restaurant",
              "plural_name": "Italian Restaurants",
              "short_name": "Italian"
             }
            ],
            "fsq_id": "4b9bf515f964a5206a3a36e3",
            "name": "Carluccio's"
           },
           {
            "categories": [
             {
              "icon": {
               "prefix": "https://ss3.4sqi.net/img/categories_v2/food/coffeeshop_",
               "suffix": ".png"
              },
              "id": 13035,
              "name": "Coffee Shop",
              "plural_name": "Coffee Shops",
              "short_name": "Coffee Shop"
             }
            ],
            "fsq_id": "4b6016a3f964a52076d529e3",
            "name": "Starbucks"
           },
           {
            "categories": [
             {
              "icon": {
               "prefix": "https://ss3.4sqi.net/img/categories_v2/food/default_",
               "suffix": ".png"
              },
              "id": 13065,
              "name": "Restaurant",
              "plural_name": "Restaurants",
              "short_name": "Restaurant"
             }
            ],
            "fsq_id": "59c268c835f9837e089ab0e1",
            "name": "Joe & the Juice"
           },
           {
            "categories": [
             {
              "icon": {
               "prefix": "https://ss3.4sqi.net/img/categories_v2/food/bakery_",
               "suffix": ".png"
              },
              "id": 13002,
              "name": "Bakery",
              "plural_name": "Bakeries",
              "short_name": "Bakery"
             }
            ],
            "fsq_id": "60072c1479163e5fab98dfbd",
            "name": "Greggs"
           },
           {
            "categories": [
             {
              "icon": {
               "prefix": "https://ss3.4sqi.net/img/categories_v2/food/deli_",
               "suffix": ".png"
              },
              "id": 13039,
              "name": "Deli",
              "plural_name": "Delis",
              "short_name": "Deli"
             }
            ],
            "fsq_id": "558d2ea0498ec9267769c134",
            "name": "Mi + Me"
           },
           {
            "categories": [
             {
              "icon": {
               "prefix": "https://ss3.4sqi.net/img/categories_v2/shops/apparel_",
               "suffix": ".png"
              },
              "id": 17043,
              "name": "Clothing Store",
              "plural_name": "Clothing Stores",
              "short_name": "Apparel"
             }
            ],
            "fsq_id": "597b08b99ba3e566d4e5cb97",
            "name": "Ted Baker"
           },
           {
            "categories": [
             {
              "icon": {
               "prefix": "https://ss3.4sqi.net/img/categories_v2/food/winery_",
               "suffix": ".png"
              },
              "id": 13025,
              "name": "Wine Bar",
              "plural_name": "Wine Bars",
              "short_name": "Wine Bar"
             },
             {
              "icon": {
               "prefix": "https://ss3.4sqi.net/img/categories_v2/food/french_",
               "suffix": ".png"
              },
              "id": 13148,
              "name": "French Restaurant",
              "plural_name": "French Restaurants",
              "short_name": "French"
             },
             {
              "icon": {
               "prefix": "https://ss3.4sqi.net/img/categories_v2/food/default_",
               "suffix": ".png"
              },
              "id": 13310,
              "name": "Modern European Restaurant",
              "plural_name": "Modern European Restaurants",
              "short_name": "Modern European"
             }
            ],
            "fsq_id": "4bab359bf964a52098993ae3",
            "name": "St Pancras Grand"
           },
           {
            "categories": [
             {
              "icon": {
               "prefix": "https://ss3.4sqi.net/img/categories_v2/food/bakery_",
               "suffix": ".png"
              },
              "id": 13002,
              "name": "Bakery",
              "plural_name": "Bakeries",
              "short_name": "Bakery"
             },
             {
              "icon": {
               "prefix": "https://ss3.4sqi.net/img/categories_v2/food/default_",
               "suffix": ".png"
              },
              "id": 13065,
              "name": "Restaurant",
              "plural_name": "Restaurants",
              "short_name": "Restaurant"
             }
            ],
            "fsq_id": "5c33e1b21c9e2e0025f8ae8c",
            "name": "Paul Bakery"
           },
           {
            "categories": [
             {
              "icon": {
               "prefix": "https://ss3.4sqi.net/img/categories_v2/shops/toys_",
               "suffix": ".png"
              },
              "id": 17135,
              "name": "Toy Store",
              "plural_name": "Toy Stores",
              "short_name": "Toys & Games"
             }
            ],
            "fsq_id": "4c9b224f78ffa0931c327275",
            "name": "Hamleys"
           },
           {
            "categories": [
             {
              "icon": {
               "prefix": "https://ss3.4sqi.net/img/categories_v2/shops/bookstore_",
               "suffix": ".png"
              },
              "id": 17018,
              "name": "Bookstore",
              "plural_name": "Bookstores",
              "short_name": "Bookstore"
             }
            ],
            "fsq_id": "5d4be9fbda59890008521b2a",
            "name": "Hatchards"
           },
           {
            "categories": [
             {
              "icon": {
               "prefix": "https://ss3.4sqi.net/img/categories_v2/arts_entertainment/default_",
               "suffix": ".png"
              },
              "id": 10047,
              "name": "Public Art",
              "plural_name": "Public Art",
              "short_name": "Public Art"
             }
            ],
            "fsq_id": "4da879f25da3ef8bf15f2c16",
            "name": "Sir John Betjeman Statue"
           },
           {
            "categories": [
             {
              "icon": {
               "prefix": "https://ss3.4sqi.net/img/categories_v2/travel/default_",
               "suffix": ".png"
              },
              "id": 17094,
              "name": "Luggage Store",
              "plural_name": "Luggage Stores",
              "short_name": "Luggage Store"
             }
            ],
            "fsq_id": "5379ca53498e9c9959c81daa",
            "name": "Rolling Luggage"
           },
           {
            "categories": [
             {
              "icon": {
               "prefix": "https://ss3.4sqi.net/img/categories_v2/travel/trainstation_",
               "suffix": ".png"
              },
              "id": 19047,
              "name": "Rail Station",
              "plural_name": "Rail Stations",
              "short_name": "Rail Station"
             }
            ],
            "fsq_id": "4f9a9abbe4b01da4fec13fa8",
            "name": "St Pancras International Station — Southeastern HighSpeed"
           },
           {
            "categories": [
             {
              "icon": {
               "prefix": "https://ss3.4sqi.net/img/categories_v2/shops/financial_",
               "suffix": ".png"
              },
              "id": 11052,
              "name": "Currency Exchange",
              "plural_name": "Currency Exchanges",
              "short_name": "Currency Exchange"
             }
            ],
            "fsq_id": "5182bcca498e91101d41c3f4",
            "name": "ICE - International Currency Exchange"
           },
           {
            "categories": [
             {
              "icon": {
               "prefix": "https://ss3.4sqi.net/img/categories_v2/shops/beauty_cosmetic_",
               "suffix": ".png"
              },
              "id": 17030,
              "name": "Cosmetics Store",
              "plural_name": "Cosmetics Stores",
              "short_name": "Cosmetics"
             }
            ],
            "fsq_id": "570cfcfb498e256f49272dd0",
            "name": "Jo Malone London"
           },
           {
            "categories": [
             {
              "icon": {
               "prefix": "https://ss3.4sqi.net/img/categories_v2/shops/mobilephoneshop_",
               "suffix": ".png"
              },
              "id": 17026,
              "name": "Mobile Phone Store",
              "plural_name": "Mobile Phone Stores",
              "short_name": "Mobile Phones"
             }
            ],
            "fsq_id": "59f0c10528122f57f0b023ac",
            "name": "iSmash - St. Pancras"
           },
           {
            "categories": [
             {
              "icon": {
               "prefix": "https://ss3.4sqi.net/img/categories_v2/shops/apparel_",
               "suffix": ".png"
              },
              "id": 17043,
              "name": "Clothing Store",
              "plural_name": "Clothing Stores",
              "short_name": "Apparel"
             },
             {
              "icon": {
               "prefix": "https://ss3.4sqi.net/img/categories_v2/shops/apparel_accessories_",
               "suffix": ".png"
              },
              "id": 17044,
              "name": "Fashion Accessories Store",
              "plural_name": "Fashion Accessories Stores",
              "short_name": "Fashion Accessories Store"
             },
             {
              "icon": {
               "prefix": "https://ss3.4sqi.net/img/categories_v2/shops/jewelry_",
               "suffix": ".png"
              },
              "id": 17045,
              "name": "Jewelry Store",
              "plural_name": "Jewelry Stores",
              "short_name": "Jewelry"
             }
            ],
            "fsq_id": "4b4c750ef964a52072b326e3",
            "name": "Oliver Bonas"
           },
           {
            "categories": [
             {
              "icon": {
               "prefix": "https://ss3.4sqi.net/img/categories_v2/travel/trainstation_",
               "suffix": ".png"
              },
              "id": 19047,
              "name": "Rail Station",
              "plural_name": "Rail Stations",
              "short_name": "Rail Station"
             }
            ],
            "fsq_id": "54d37e52498ef9e0d404d534",
            "name": "St Pancras International Station — Thameslink"
           },
           {
            "categories": [
             {
              "icon": {
               "prefix": "https://ss3.4sqi.net/img/categories_v2/food/burger_",
               "suffix": ".png"
              },
              "id": 13031,
              "name": "Burger Joint",
              "plural_name": "Burger Joints",
              "short_name": "Burgers"
             },
             {
              "icon": {
               "prefix": "https://ss3.4sqi.net/img/categories_v2/food/fastfood_",
               "suffix": ".png"
              },
              "id": 13145,
              "name": "Fast Food Restaurant",
              "plural_name": "Fast Food Restaurants",
              "short_name": "Fast Food"
             }
            ],
            "fsq_id": "55913430498ec62497c7cd64",
            "name": "Prime Burger"
           },
           {
            "categories": [
             {
              "icon": {
               "prefix": "https://ss3.4sqi.net/img/categories_v2/shops/beauty_cosmetic_",
               "suffix": ".png"
              },
              "id": 17030,
              "name": "Cosmetics Store",
              "plural_name": "Cosmetics Stores",
              "short_name": "Cosmetics"
             },
             {
              "icon": {
               "prefix": "https://ss3.4sqi.net/img/categories_v2/shops/pharmacy_",
               "suffix": ".png"
              },
              "id": 17035,
              "name": "Drugstore",
              "plural_name": "Drugstores",
              "short_name": "Drugstore"
             }
            ],
            "fsq_id": "4b715d3cf964a52005432de3",
            "name": "Boots"
           },
           {
            "categories": [
             {
              "icon": {
               "prefix": "https://ss3.4sqi.net/img/categories_v2/food/deli_",
               "suffix": ".png"
              },
              "id": 13039,
              "name": "Deli",
              "plural_name": "Delis",
              "short_name": "Deli"
             }
            ],
            "fsq_id": "4ae9aad0f964a52093b521e3",
            "name": "Sourced Market"
           },
           {
            "categories": [
             {
              "icon": {
               "prefix": "https://ss3.4sqi.net/img/categories_v2/travel/subway_",
               "suffix": ".png"
              },
              "id": 19046,
              "name": "Metro Station",
              "plural_name": "Metro Stations",
              "short_name": "Metro"
             }
            ],
            "fsq_id": "4bcc08273740b7139c756365",
            "name": "Eurostar Train Station - St Pancras"
           },
           {
            "categories": [
             {
              "icon": {
               "prefix": "https://ss3.4sqi.net/img/categories_v2/shops/apparel_kids_",
               "suffix": ".png"
              },
              "id": 17014,
              "name": "Baby Store",
              "plural_name": "Baby Stores",
              "short_name": "Baby Store"
             }
            ],
            "fsq_id": "5a6a1fadb399f7126af490ec",
            "name": "Petit Bateau"
           },
           {
            "categories": [
             {
              "icon": {
               "prefix": "https://ss3.4sqi.net/img/categories_v2/building/government_monument_",
               "suffix": ".png"
              },
              "id": 16026,
              "name": "Monument",
              "plural_name": "Monuments",
              "short_name": "Monument"
             },
             {
              "icon": {
               "prefix": "https://ss3.4sqi.net/img/categories_v2/travel/trainstation_",
               "suffix": ".png"
              },
              "id": 19047,
              "name": "Rail Station",
              "plural_name": "Rail Stations",
              "short_name": "Rail Station"
             }
            ],
            "fsq_id": "55f9b615498e7639045c74a5",
            "name": "St. Pancras Clock Tower"
           },
           {
            "categories": [
             {
              "icon": {
               "prefix": "https://ss3.4sqi.net/img/categories_v2/food/bakery_",
               "suffix": ".png"
              },
              "id": 13002,
              "name": "Bakery",
              "plural_name": "Bakeries",
              "short_name": "Bakery"
             },
             {
              "icon": {
               "prefix": "https://ss3.4sqi.net/img/categories_v2/food/dessert_",
               "suffix": ".png"
              },
              "id": 13040,
              "name": "Dessert Shop",
              "plural_name": "Dessert Shops",
              "short_name": "Desserts"
             }
            ],
            "fsq_id": "4bcee5dc937ca5937124af92",
            "name": "Neuhaus"
           },
           {
            "categories": [
             {
              "icon": {
               "prefix": "https://ss3.4sqi.net/img/categories_v2/food/coffeeshop_",
               "suffix": ".png"
              },
              "id": 13035,
              "name": "Coffee Shop",
              "plural_name": "Coffee Shops",
              "short_name": "Coffee Shop"
             },
             {
              "icon": {
               "prefix": "https://ss3.4sqi.net/img/categories_v2/food/default_",
               "suffix": ".png"
              },
              "id": 13065,
              "name": "Restaurant",
              "plural_name": "Restaurants",
              "short_name": "Restaurant"
             }
            ],
            "fsq_id": "579f8545498ec922996e5d35",
            "name": "Benugo Espresso Bar"
           },
           {
            "categories": [
             {
              "icon": {
               "prefix": "https://ss3.4sqi.net/img/categories_v2/shops/bookstore_",
               "suffix": ".png"
              },
              "id": 17018,
              "name": "Bookstore",
              "plural_name": "Bookstores",
              "short_name": "Bookstore"
             }
            ],
            "fsq_id": "551113ce498ed55bcd3b0a42",
            "name": "WHSmith"
           },
           {
            "categories": [
             {
              "icon": {
               "prefix": "https://ss3.4sqi.net/img/categories_v2/food/dessert_",
               "suffix": ".png"
              },
              "id": 13040,
              "name": "Dessert Shop",
              "plural_name": "Dessert Shops",
              "short_name": "Desserts"
             },
             {
              "icon": {
               "prefix": "https://ss3.4sqi.net/img/categories_v2/food/default_",
               "suffix": ".png"
              },
              "id": 13065,
              "name": "Restaurant",
              "plural_name": "Restaurants",
              "short_name": "Restaurant"
             }
            ],
            "fsq_id": "5b3bbaff0868a200397d3986",
            "name": "Ladurée"
           },
           {
            "categories": [
             {
              "icon": {
               "prefix": "https://ss3.4sqi.net/img/categories_v2/shops/apparel_accessories_",
               "suffix": ".png"
              },
              "id": 17044,
              "name": "Fashion Accessories Store",
              "plural_name": "Fashion Accessories Stores",
              "short_name": "Fashion Accessories Store"
             },
             {
              "icon": {
               "prefix": "https://ss3.4sqi.net/img/categories_v2/shops/apparel_women_",
               "suffix": ".png"
              },
              "id": 17052,
              "name": "Women's Store",
              "plural_name": "Women's Stores",
              "short_name": "Women's Store"
             }
            ],
            "fsq_id": "5c45cde0f427de002cedd973",
            "name": "Kate Spade"
           },
           {
            "categories": [
             {
              "icon": {
               "prefix": "https://ss3.4sqi.net/img/categories_v2/shops/apparel_",
               "suffix": ".png"
              },
              "id": 17043,
              "name": "Clothing Store",
              "plural_name": "Clothing Stores",
              "short_name": "Apparel"
             },
             {
              "icon": {
               "prefix": "https://ss3.4sqi.net/img/categories_v2/shops/apparel_women_",
               "suffix": ".png"
              },
              "id": 17052,
              "name": "Women's Store",
              "plural_name": "Women's Stores",
              "short_name": "Women's Store"
             }
            ],
            "fsq_id": "5252bb5411d250ac0292491c",
            "name": "L.K.Bennett"
           },
           {
            "categories": [
             {
              "icon": {
               "prefix": "https://ss3.4sqi.net/img/categories_v2/shops/apparel_",
               "suffix": ".png"
              },
              "id": 17043,
              "name": "Clothing Store",
              "plural_name": "Clothing Stores",
              "short_name": "Apparel"
             },
             {
              "icon": {
               "prefix": "https://ss3.4sqi.net/img/categories_v2/shops/apparel_women_",
               "suffix": ".png"
              },
              "id": 17052,
              "name": "Women's Store",
              "plural_name": "Women's Stores",
              "short_name": "Women's Store"
             }
            ],
            "fsq_id": "541491bd498ef93c7f35758d",
            "name": "Whistles"
           },
           {
            "categories": [
             {
              "icon": {
               "prefix": "https://ss3.4sqi.net/img/categories_v2/building/medical_",
               "suffix": ".png"
              },
              "id": 15016,
              "name": "Medical Center",
              "plural_name": "Medical Centers",
              "short_name": "Medical"
             }
            ],
            "fsq_id": "6166fd3fc23e2e1f8d4ca608",
            "name": "Collinson Test Centre"
           },
           {
            "categories": [
             {
              "icon": {
               "prefix": "https://ss3.4sqi.net/img/categories_v2/shops/apparel_",
               "suffix": ".png"
              },
              "id": 17043,
              "name": "Clothing Store",
              "plural_name": "Clothing Stores",
              "short_name": "Apparel"
             }
            ],
            "fsq_id": "634e5c50ce69400ab95cac64",
            "name": "Levi’s Store"
           },
           {
            "categories": [
             {
              "icon": {
               "prefix": "https://ss3.4sqi.net/img/categories_v2/food/salad_",
               "suffix": ".png"
              },
              "id": 13332,
              "name": "Salad Restaurant",
              "plural_name": "Salad Restaurants",
              "short_name": "Salad"
             }
            ],
            "fsq_id": "643164be1d6ffc6408fea781",
            "name": "Kaleido St Pancras"
           },
           {
            "categories": [
             {
              "icon": {
               "prefix": "https://ss3.4sqi.net/img/categories_v2/shops/apparel_",
               "suffix": ".png"
              },
              "id": 17043,
              "name": "Clothing Store",
              "plural_name": "Clothing Stores",
              "short_name": "Apparel"
             }
            ],
            "fsq_id": "58788953e309e1077040440a",
            "name": "GANT St Pancras"
           },
           {
            "categories": [
             {
              "icon": {
               "prefix": "https://ss3.4sqi.net/img/categories_v2/shops/food_grocery_",
               "suffix": ".png"
              },
              "id": 17069,
              "name": "Grocery Store",
              "plural_name": "Grocery Stores",
              "short_name": "Grocery Store"
             }
            ],
            "fsq_id": "4c12bba4a1010f47876a4918",
            "name": "M&S St Pancras Rail Arcade Simply Food"
           },
           {
            "categories": [
             {
              "icon": {
               "prefix": "https://ss3.4sqi.net/img/categories_v2/shops/airport_rentalcar_",
               "suffix": ".png"
              },
              "id": 19048,
              "name": "Rental Car Location",
              "plural_name": "Rental Car Locations",
              "short_name": "Rental Car"
             }
            ],
            "fsq_id": "5a93b4950881583b16fde374",
            "name": "Avis Car Rental"
           },
           {
            "categories": [
             {
              "icon": {
               "prefix": "https://ss3.4sqi.net/img/categories_v2/nightlife/pub_",
               "suffix": ".png"
              },
              "id": 13003,
              "name": "Bar",
              "plural_name": "Bars",
              "short_name": "Bar"
             },
             {
              "icon": {
               "prefix": "https://ss3.4sqi.net/img/categories_v2/food/gastropub_",
               "suffix": ".png"
              },
              "id": 13057,
              "name": "Gastropub",
              "plural_name": "Gastropubs",
              "short_name": "Gastropub"
             }
            ],
            "fsq_id": "4aff4275f964a520953622e3",
            "name": "The Betjeman Arms"
           },
           {
            "categories": [
             {
              "icon": {
               "prefix": "https://ss3.4sqi.net/img/categories_v2/travel/hotel_",
               "suffix": ".png"
              },
              "id": 19014,
              "name": "Hotel",
              "plural_name": "Hotels",
              "short_name": "Hotel"
             }
            ],
            "fsq_id": "4d00c69af1605481dce59fea",
            "name": "St. Pancras Renaissance Hotel London"
           },
           {
            "categories": [
             {
              "icon": {
               "prefix": "https://ss3.4sqi.net/img/categories_v2/shops/mall_",
               "suffix": ".png"
              },
              "id": 17115,
              "name": "Shopping Plaza",
              "plural_name": "Shopping Plazas",
              "short_name": "Shopping Plaza"
             }
            ],
            "fsq_id": "5c6c0f9047f876002c0b6dc9",
            "name": "The Grand Terrace"
           },
           {
            "categories": [
             {
              "icon": {
               "prefix": "https://ss3.4sqi.net/img/categories_v2/food/french_",
               "suffix": ".png"
              },
              "id": 13152,
              "name": "Brasserie",
              "plural_name": "Brasseries",
              "short_name": "Brasserie"
             },
             {
              "icon": {
               "prefix": "https://ss3.4sqi.net/img/categories_v2/food/default_",
               "suffix": ".png"
              },
              "id": 13065,
              "name": "Restaurant",
              "plural_name": "Restaurants",
              "short_name": "Restaurant"
             }
            ],
            "fsq_id": "5d9251805f9d5900089fb553",
            "name": "St Pancras Brasserie by Searcys"
           },
           {
            "categories": [
             {
              "icon": {
               "prefix": "https://ss3.4sqi.net/img/categories_v2/food/cafe_",
               "suffix": ".png"
              },
              "id": 13034,
              "name": "Café",
              "plural_name": "Cafés",
              "short_name": "Café"
             }
            ],
            "fsq_id": "5e2320287fc6dd0008d0c847",
            "name": "El&N"
           },
           {
            "categories": [
             {
              "icon": {
               "prefix": "https://ss3.4sqi.net/img/categories_v2/food/donuts_",
               "suffix": ".png"
              },
              "id": 13043,
              "name": "Donut Shop",
              "plural_name": "Donut Shops",
              "short_name": "Donuts"
             }
            ],
            "fsq_id": "5e5424bd3a73ae00071bcd1a",
            "name": "Dum Dum Donuts"
           },
           {
            "categories": [
             {
              "icon": {
               "prefix": "https://ss3.4sqi.net/img/categories_v2/shops/airport_rentalcar_",
               "suffix": ".png"
              },
              "id": 19048,
              "name": "Rental Car Location",
              "plural_name": "Rental Car Locations",
              "short_name": "Rental Car"
             }
            ],
            "fsq_id": "5bd1c54da3061900397ed370",
            "name": "Hertz"
           },
           {
            "categories": [
             {
              "icon": {
               "prefix": "https://ss3.4sqi.net/img/categories_v2/shops/apparel_",
               "suffix": ".png"
              },
              "id": 17043,
              "name": "Clothing Store",
              "plural_name": "Clothing Stores",
              "short_name": "Apparel"
             },
             {
              "icon": {
               "prefix": "https://ss3.4sqi.net/img/categories_v2/shops/apparel_shoestore_",
               "suffix": ".png"
              },
              "id": 17048,
              "name": "Shoe Store",
              "plural_name": "Shoe Stores",
              "short_name": "Shoes"
             },
             {
              "icon": {
               "prefix": "https://ss3.4sqi.net/img/categories_v2/shops/apparel_women_",
               "suffix": ".png"
              },
              "id": 17052,
              "name": "Women's Store",
              "plural_name": "Women's Stores",
              "short_name": "Women's Store"
             }
            ],
            "fsq_id": "558af220498eba7ad14ac868",
            "name": "Dune"
           },
           {
            "categories": [
             {
              "icon": {
               "prefix": "https://ss3.4sqi.net/img/categories_v2/food/japanese_",
               "suffix": ".png"
              },
              "id": 13263,
              "name": "Japanese Restaurant",
              "plural_name": "Japanese Restaurants",
              "short_name": "Japanese"
             },
             {
              "icon": {
               "prefix": "https://ss3.4sqi.net/img/categories_v2/food/ramen_",
               "suffix": ".png"
              },
              "id": 13281,
              "name": "Udon Restaurant",
              "plural_name": "Udon Restaurants",
              "short_name": "Udon"
             }
            ],
            "fsq_id": "6096733ce271114c08991888",
            "name": "Kineya Mugimaru"
           },
           {
            "categories": [
             {
              "icon": {
               "prefix": "https://ss3.4sqi.net/img/categories_v2/shops/apparel_",
               "suffix": ".png"
              },
              "id": 17043,
              "name": "Clothing Store",
              "plural_name": "Clothing Stores",
              "short_name": "Apparel"
             }
            ],
            "fsq_id": "56ab4c84498e83964b232203",
            "name": "Aspinal of London"
           },
           {
            "categories": [
             {
              "icon": {
               "prefix": "https://ss3.4sqi.net/img/categories_v2/food/sushi_",
               "suffix": ".png"
              },
              "id": 13276,
              "name": "Sushi Restaurant",
              "plural_name": "Sushi Restaurants",
              "short_name": "Sushi"
             }
            ],
            "fsq_id": "4b61e4b7f964a5209f292ae3",
            "name": "YO! Sushi"
           },
           {
            "categories": [
             {
              "icon": {
               "prefix": "https://ss3.4sqi.net/img/categories_v2/building/parking_",
               "suffix": ".png"
              },
              "id": 19020,
              "name": "Parking",
              "plural_name": "Parking",
              "short_name": "Parking"
             }
            ],
            "fsq_id": "5cf3bb6bd552c7002cdd1a82",
            "name": "St Pancras International Car Park"
           },
           {
            "categories": [
             {
              "icon": {
               "prefix": "https://ss3.4sqi.net/img/categories_v2/travel/trainstation_",
               "suffix": ".png"
              },
              "id": 19047,
              "name": "Rail Station",
              "plural_name": "Rail Stations",
              "short_name": "Rail Station"
             }
            ],
            "fsq_id": "4e40f13dc65b4f2fdeb09bf0",
            "name": "East Midlands Terminal"
           },
           {
            "categories": [
             {
              "icon": {
               "prefix": "https://ss3.4sqi.net/img/categories_v2/shops/beauty_cosmetic_",
               "suffix": ".png"
              },
              "id": 17030,
              "name": "Cosmetics Store",
              "plural_name": "Cosmetics Stores",
              "short_name": "Cosmetics"
             }
            ],
            "fsq_id": "5356d017498e439daf1bfa9c",
            "name": "MAC Cosmetics St Pancras"
           },
           {
            "categories": [
             {
              "icon": {
               "prefix": "https://ss3.4sqi.net/img/categories_v2/shops/bookstore_",
               "suffix": ".png"
              },
              "id": 17018,
              "name": "Bookstore",
              "plural_name": "Bookstores",
              "short_name": "Bookstore"
             }
            ],
            "fsq_id": "4ce6bb38e1eeb60ce6a498ae",
            "name": "WHSmith"
           },
           {
            "categories": [
             {
              "icon": {
               "prefix": "https://ss3.4sqi.net/img/categories_v2/shops/beauty_cosmetic_",
               "suffix": ".png"
              },
              "id": 17030,
              "name": "Cosmetics Store",
              "plural_name": "Cosmetics Stores",
              "short_name": "Cosmetics"
             }
            ],
            "fsq_id": "59cb6efc0802d4187e031b96",
            "name": "Chanel Fragrance & Beauty"
           },
           {
            "categories": [
             {
              "icon": {
               "prefix": "https://ss3.4sqi.net/img/categories_v2/shops/bookstore_",
               "suffix": ".png"
              },
              "id": 17018,
              "name": "Bookstore",
              "plural_name": "Bookstores",
              "short_name": "Bookstore"
             }
            ],
            "fsq_id": "5151763ee4b0f967e56768f4",
            "name": "WHSmith"
           },
           {
            "categories": [
             {
              "icon": {
               "prefix": "https://ss3.4sqi.net/img/categories_v2/shops/flowershop_",
               "suffix": ".png"
              },
              "id": 17056,
              "name": "Flower Store",
              "plural_name": "Flower Stores",
              "short_name": "Flower Store"
             }
            ],
            "fsq_id": "5818cba038fae952819686d3",
            "name": "Moyses Stevens"
           },
           {
            "categories": [
             {
              "icon": {
               "prefix": "https://ss3.4sqi.net/img/categories_v2/shops/apparel_",
               "suffix": ".png"
              },
              "id": 17043,
              "name": "Clothing Store",
              "plural_name": "Clothing Stores",
              "short_name": "Apparel"
             },
             {
              "icon": {
               "prefix": "https://ss3.4sqi.net/img/categories_v2/shops/apparel_accessories_",
               "suffix": ".png"
              },
              "id": 17044,
              "name": "Fashion Accessories Store",
              "plural_name": "Fashion Accessories Stores",
              "short_name": "Fashion Accessories Store"
             }
            ],
            "fsq_id": "4b784333f964a5208bc02ee3",
            "name": "Accessorize"
           },
           {
            "categories": [
             {
              "icon": {
               "prefix": "https://ss3.4sqi.net/img/categories_v2/shops/departmentstore_",
               "suffix": ".png"
              },
              "id": 17033,
              "name": "Department Store",
              "plural_name": "Department Stores",
              "short_name": "Department Store"
             }
            ],
            "fsq_id": "4f0f216be4b00ae6bcdbc5dc",
            "name": "The White Company"
           }
          ]
         },
         "timezone": "Europe/London"
        },
        {
         "categories": [
          {
           "icon": {
            "prefix": "https://ss3.4sqi.net/img/categories_v2/travel/hotel_",
            "suffix": ".png"
           },
           "id": 19014,
           "name": "Hotel",
           "plural_name": "Hotels",
           "short_name": "Hotel"
          }
         ],
         "chains": [],
         "closed_bucket": "VeryLikelyOpen",
         "distance": 1865,
         "fsq_id": "62cb34c4c7b9325eb19c4c1d",
         "geocodes": {
          "main": {
           "latitude": 51.495155,
           "longitude": -0.141475
          },
          "roof": {
           "latitude": 51.495155,
           "longitude": -0.141475
          }
         },
         "link": "/v3/places/62cb34c4c7b9325eb19c4c1d",
         "location": {
          "address": "292 Vauxhall Bridge Rd",
          "admin_region": "England",
          "country": "GB",
          "cross_street": "",
          "formatted_address": "292 Vauxhall Bridge Rd, Victoria, Greater London, SW1V 1AE",
          "locality": "Victoria",
          "post_town": "London",
          "postcode": "SW1V 1AE",
          "region": "Greater London"
         },
         "name": "citizenM Victoria Station",
         "related_places": {},
         "timezone": "Europe/London"
        },
        {
         "categories": [
          {
           "icon": {
            "prefix": "https://ss3.4sqi.net/img/categories_v2/shops/bikeshop_",
            "suffix": ".png"
           },
           "id": 17119,
           "name": "Bicycle Store",
           "plural_name": "Bicycle Stores",
           "short_name": "Bicycle Store"
          }
         ],
         "chains": [],
         "closed_bucket": "Unsure",
         "distance": 3289,
         "fsq_id": "5492c394498ee0902b1494a3",
         "geocodes": {
          "drop_off": {
           "latitude": 51.49643,
           "longitude": -0.082347
          },
          "main": {
           "latitude": 51.49632,
           "longitude": -0.082271
          },
          "roof": {
           "latitude": 51.49632,
           "longitude": -0.082271
          }
         },
         "link": "/v3/places/5492c394498ee0902b1494a3",
         "location": {
          "address": "97 Tower Bridge Rd",
          "admin_region": "England",
          "country": "GB",
          "cross_street": "",
          "formatted_address": "97 Tower Bridge Rd, London, Greater London, SE1 4TW",
          "locality": "London",
          "post_town": "London",
          "postcode": "SE1 4TW",
          "region": "Greater London"
         },
         "name": "Machine Cycling Café/Bike Shop and Repairs",
         "related_places": {},
         "timezone": "Europe/London"
        },
        {
         "categories": [
          {
           "icon": {
            "prefix": "https://ss3.4sqi.net/img/categories_v2/travel/trainstation_",
            "suffix": ".png"
           },
           "id": 19047,
           "name": "Rail Station",
           "plural_name": "Rail Stations",
           "short_name": "Rail Station"
          }
         ],
         "chains": [],
         "closed_bucket": "VeryLikelyOpen",
         "distance": 2588,
         "fsq_id": "4af33684f964a520c7eb21e3",
         "geocodes": {
          "main": {
           "latitude": 51.531788,
           "longitude": -0.123696
          },
          "roof": {
           "latitude": 51.531788,
           "longitude": -0.123696
          }
         },
         "link": "/v3/places/4af33684f964a520c7eb21e3",
         "location": {
          "address": "Euston Rd",
          "admin_region": "England",
          "country": "GB",
          "cross_street": "York Way",
          "formatted_address": "Euston Rd (York Way), London, Greater London, N1C 4TB",
          "locality": "London",
          "post_town": "London",
          "postcode": "N1C 4TB",
          "region": "Greater London"
         },
         "name": "London King's Cross Railway Station (KGX)",
         "related_places": {
          "children": [
           {
            "categories": [
             {
              "icon": {
               "prefix": "https://ss3.4sqi.net/img/categories_v2/shops/apparel_",
               "suffix": ".png"
              },
              "id": 17043,
              "name": "Clothing Store",
              "plural_name": "Clothing Stores",
              "short_name": "Apparel"
             },
             {
              "icon": {
               "prefix": "https://ss3.4sqi.net/img/categories_v2/shops/apparel_accessories_",
               "suffix": ".png"
              },
              "id": 17044,
              "name": "Fashion Accessories Store",
              "plural_name": "Fashion Accessories Stores",
              "short_name": "Fashion Accessories Store"
             }
            ],
            "fsq_id": "4fc0a251e4b089f18bb30f5e",
            "name": "Accessorize"
           },
           {
            "categories": [
             {
              "icon": {
               "prefix": "https://ss3.4sqi.net/img/categories_v2/shops/beauty_cosmetic_",
               "suffix": ".png"
              },
              "id": 17030,
              "name": "Cosmetics Store",
              "plural_name": "Cosmetics Stores",
              "short_name": "Cosmetics"
             },
             {
              "icon": {
               "prefix": "https://ss3.4sqi.net/img/categories_v2/shops/pharmacy_",
               "suffix": ".png"
              },
              "id": 17035,
              "name": "Drugstore",
              "plural_name": "Drugstores",
              "short_name": "Drugstore"
             }
            ],
            "fsq_id": "4f8ec106e4b084124ac8018f",
            "name": "Boots"
           },
           {
            "categories": [
             {
              "icon": {
               "prefix": "https://ss3.4sqi.net/img/categories_v2/food/default_",
               "suffix": ".png"
              },
              "id": 13068,
              "name": "American Restaurant",
              "plural_name": "American Restaurants",
              "short_name": "American"
             }
            ],
            "fsq_id": "4b922738f964a520a9e933e3",
            "name": "Upper Crust"
           },
           {
            "categories": [
             {
              "icon": {
               "prefix": "https://ss3.4sqi.net/img/categories_v2/food/fastfood_",
               "suffix": ".png"
              },
              "id": 13145,
              "name": "Fast Food Restaurant",
              "plural_name": "Fast Food Restaurants",
              "short_name": "Fast Food"
             },
             {
              "icon": {
               "prefix": "https://ss3.4sqi.net/img/categories_v2/food/deli_",
               "suffix": ".png"
              },
              "id": 13334,
              "name": "Sandwich Spot",
              "plural_name": "Sandwich Spots",
              "short_name": "Sandwich Spot"
             }
            ],
            "fsq_id": "4f670c67c2ee2f0b4073d8bc",
            "name": "Pret a Manger"
           },
           {
            "categories": [
             {
              "icon": {
               "prefix": "https://ss3.4sqi.net/img/categories_v2/shops/bookstore_",
               "suffix": ".png"
              },
              "id": 17018,
              "name": "Bookstore",
              "plural_name": "Bookstores",
              "short_name": "Bookstore"
             }
            ],
            "fsq_id": "4fec743c3d7c9b9c78e06c3d",
            "name": "WHSmith"
           },
           {
            "categories": [
             {
              "icon": {
               "prefix": "https://ss3.4sqi.net/img/categories_v2/food/sushi_",
               "suffix": ".png"
              },
              "id": 13276,
              "name": "Sushi Restaurant",
              "plural_name": "Sushi Restaurants",
              "short_name": "Sushi"
             }
            ],
            "fsq_id": "4f734d8ee4b00da52b3e12c7",
            "name": "Wasabi"
           },
           {
            "categories": [
             {
              "icon": {
               "prefix": "https://ss3.4sqi.net/img/categories_v2/travel/trainstation_",
               "suffix": ".png"
              },
              "id": 19047,
              "name": "Rail Station",
              "plural_name": "Rail Stations",
              "short_name": "Rail Station"
             }
            ],
            "fsq_id": "4f679f43e4b03aa49001693f",
            "name": "Western Concourse"
           },
           {
            "categories": [
             {
              "icon": {
               "prefix": "https://ss3.4sqi.net/img/categories_v2/building/default_",
               "suffix": ".png"
              },
              "id": 11167,
              "name": "Technology Business",
              "plural_name": "Technology Business",
              "short_name": "Technology Business"
             }
            ],
            "fsq_id": "6305e0a2bfb3ad35158ee71f",
            "name": "Domino Data Lab"
           },
           {
            "categories": [
             {
              "icon": {
               "prefix": "https://ss3.4sqi.net/img/categories_v2/shops/flowershop_",
               "suffix": ".png"
              },
              "id": 17056,
              "name": "Flower Store",
              "plural_name": "Flower Stores",
              "short_name": "Flower Store"
             }
            ],
            "fsq_id": "4f4bcedce4b01739bd5d92b0",
            "name": "Isle of Flowers"
           },
           {
            "categories": [
             {
              "icon": {
               "prefix": "https://ss3.4sqi.net/img/categories_v2/building/default_",
               "suffix": ".png"
              },
              "id": 11147,
              "name": "Commercial Real Estate Developer",
              "plural_name": "Commercial Real Estate Developers",
              "short_name": "Commercial Real Estate Developer"
             },
             {
              "icon": {
               "prefix": "https://ss3.4sqi.net/img/categories_v2/building/default_",
               "suffix": ".png"
              },
              "id": 11148,
              "name": "Property Management Office",
              "plural_name": "Property Management Offices",
              "short_name": "Property Management Office"
             }
            ],
            "fsq_id": "55f02a41498e6429162b14ed",
            "name": "The Office Group - East Side"
           },
           {
            "categories": [
             {
              "icon": {
               "prefix": "https://ss3.4sqi.net/img/categories_v2/food/fastfood_",
               "suffix": ".png"
              },
              "id": 13145,
              "name": "Fast Food Restaurant",
              "plural_name": "Fast Food Restaurants",
              "short_name": "Fast Food"
             },
             {
              "icon": {
               "prefix": "https://ss3.4sqi.net/img/categories_v2/food/mediterranean_",
               "suffix": ".png"
              },
              "id": 13302,
              "name": "Mediterranean Restaurant",
              "plural_name": "Mediterranean Restaurants",
              "short_name": "Mediterranean"
             }
            ],
            "fsq_id": "4f5e130be4b01014bc36e514",
            "name": "Leon"
           },
           {
            "categories": [
             {
              "icon": {
               "prefix": "https://ss3.4sqi.net/img/categories_v2/food/coffeeshop_",
               "suffix": ".png"
              },
              "id": 13032,
              "name": "Cafe, Coffee, and Tea House",
              "plural_name": "Cafes, Coffee, and Tea Houses",
              "short_name": "Cafe, Coffee, and Tea House"
             }
            ],
            "fsq_id": "4bb50e4146d4a5932a7dc4c0",
            "name": "Caffè Nero"
           },
           {
            "categories": [
             {
              "icon": {
               "prefix": "https://ss3.4sqi.net/img/categories_v2/food/coffeeshop_",
               "suffix": ".png"
              },
              "id": 13035,
              "name": "Coffee Shop",
              "plural_name": "Coffee Shops",
              "short_name": "Coffee Shop"
             }
            ],
            "fsq_id": "61a633ee59d52568be11d7bd",
            "name": "Hermanos Colombian Coffee Roasters"
           },
           {
            "categories": [
             {
              "icon": {
               "prefix": "https://ss3.4sqi.net/img/categories_v2/nightlife/default_",
               "suffix": ".png"
              },
              "id": 19056,
              "name": "Travel Lounge",
              "plural_name": "Travel Lounges",
              "short_name": "Lounge"
             }
            ],
            "fsq_id": "4bbb08a97421a5930b5ac440",
            "name": "First Class Lounge"
           },
           {
            "categories": [
             {
              "icon": {
               "prefix": "https://ss3.4sqi.net/img/categories_v2/food/default_",
               "suffix": ".png"
              },
              "id": 13065,
              "name": "Restaurant",
              "plural_name": "Restaurants",
              "short_name": "Restaurant"
             }
            ],
            "fsq_id": "4f65b536108143b6cf95400c",
            "name": "Giraffe Stop"
           },
           {
            "categories": [
             {
              "icon": {
               "prefix": "https://ss3.4sqi.net/img/categories_v2/shops/giftshop_",
               "suffix": ".png"
              },
              "id": 17089,
              "name": "Gift Store",
              "plural_name": "Gift Stores",
              "short_name": "Gift Store"
             }
            ],
            "fsq_id": "50cc611de4b00957c7914528",
            "name": "The Harry Potter Shop at Platform 9 3/4"
           },
           {
            "categories": [
             {
              "icon": {
               "prefix": "https://ss3.4sqi.net/img/categories_v2/arts_entertainment/default_",
               "suffix": ".png"
              },
              "id": 10000,
              "name": "Arts and Entertainment",
              "plural_name": "Arts and Entertainment",
              "short_name": "Arts & Entertainment"
             }
            ],
            "fsq_id": "4b114284f964a520657923e3",
            "name": "Platform 9¾"
           },
           {
            "categories": [
             {
              "icon": {
               "prefix": "https://ss3.4sqi.net/img/categories_v2/food/burrito_",
               "suffix": ".png"
              },
              "id": 13305,
              "name": "Burrito Restaurant",
              "plural_name": "Burrito Restaurants",
              "short_name": "Burritos"
             }
            ],
            "fsq_id": "4f66677c6d862bd30be4029b",
            "name": "Benito's Hat"
           },
           {
            "categories": [
             {
              "icon": {
               "prefix": "https://ss3.4sqi.net/img/categories_v2/parks_outdoors/neighborhood_",
               "suffix": ".png"
              },
              "id": 12092,
              "name": "Public Bathroom",
              "plural_name": "Public Bathrooms",
              "short_name": "Public Bathroom"
             }
            ],
            "fsq_id": "629cd276c6ab49759826d7e6",
            "name": "Kings Cross Public Toilets"
           },
           {
            "categories": [
             {
              "icon": {
               "prefix": "https://ss3.4sqi.net/img/categories_v2/shops/food_grocery_",
               "suffix": ".png"
              },
              "id": 17069,
              "name": "Grocery Store",
              "plural_name": "Grocery Stores",
              "short_name": "Grocery Store"
             }
            ],
            "fsq_id": "5d820bcb38cbb50008aa19a6",
            "name": "Little Waitrose"
           },
           {
            "categories": [
             {
              "icon": {
               "prefix": "https://ss3.4sqi.net/img/categories_v2/food/italian_",
               "suffix": ".png"
              },
              "id": 13236,
              "name": "Italian Restaurant",
              "plural_name": "Italian Restaurants",
              "short_name": "Italian"
             }
            ],
            "fsq_id": "4f6730abe4b075c7159e5a05",
            "name": "Prezzo"
           },
           {
            "categories": [
             {
              "icon": {
               "prefix": "https://ss3.4sqi.net/img/categories_v2/arts_entertainment/default_",
               "suffix": ".png"
              },
              "id": 10000,
              "name": "Arts and Entertainment",
              "plural_name": "Arts and Entertainment",
              "short_name": "Arts & Entertainment"
             },
             {
              "icon": {
               "prefix": "https://ss3.4sqi.net/img/categories_v2/nightlife/pub_",
               "suffix": ".png"
              },
              "id": 13018,
              "name": "Pub",
              "plural_name": "Pubs",
              "short_name": "Pub"
             },
             {
              "icon": {
               "prefix": "https://ss3.4sqi.net/img/categories_v2/food/default_",
               "suffix": ".png"
              },
              "id": 13065,
              "name": "Restaurant",
              "plural_name": "Restaurants",
              "short_name": "Restaurant"
             }
            ],
            "fsq_id": "4f634969e4b0ce431bfee234",
            "name": "The Parcel Yard"
           },
           {
            "categories": [
             {
              "icon": {
               "prefix": "https://ss3.4sqi.net/img/categories_v2/shops/default_",
               "suffix": ".png"
              },
              "id": 17111,
              "name": "Pop-Up Store",
              "plural_name": "Pop-Up Stores",
              "short_name": "Pop-Up Store"
             }
            ],
            "fsq_id": "5d84e96c6f26110007134511",
            "name": "Oak & Smoke Popup"
           },
           {
            "categories": [
             {
              "icon": {
               "prefix": "https://ss3.4sqi.net/img/categories_v2/shops/food_grocery_",
               "suffix": ".png"
              },
              "id": 17069,
              "name": "Grocery Store",
              "plural_name": "Grocery Stores",
              "short_name": "Grocery Store"
             }
            ],
            "fsq_id": "4f734058e4b04cc2064ad032",
            "name": "M&S Simply Food"
           },
           {
            "categories": [
             {
              "icon": {
               "prefix": "https://ss3.4sqi.net/img/categories_v2/parks_outdoors/neighborhood_",
               "suffix": ".png"
              },
              "id": 12092,
              "name": "Public Bathroom",
              "plural_name": "Public Bathrooms",
              "short_name": "Public Bathroom"
             }
            ],
            "fsq_id": "629cd35f2bec55599fd40237",
            "name": "Kings Cross Public Toilets"
           },
           {
            "categories": [
             {
              "icon": {
               "prefix": "https://ss3.4sqi.net/img/categories_v2/food/bakery_",
               "suffix": ".png"
              },
              "id": 13002,
              "name": "Bakery",
              "plural_name": "Bakeries",
              "short_name": "Bakery"
             }
            ],
            "fsq_id": "4fa2aad7e4b0e96680fd6470",
            "name": "The Pasty Shop"
           },
           {
            "categories": [
             {
              "icon": {
               "prefix": "https://ss3.4sqi.net/img/categories_v2/shops/artstore_",
               "suffix": ".png"
              },
              "id": 17003,
              "name": "Arts and Crafts Store",
              "plural_name": "Arts and Crafts Stores",
              "short_name": "Arts and Crafts Store"
             }
            ],
            "fsq_id": "5a92a4299e0d5466b67155e7",
            "name": "Amazing Chocolate Workshop"
           }
          ]
         },
         "timezone": "Europe/London"
        },
        {
         "categories": [
          {
           "icon": {
            "prefix": "https://ss3.4sqi.net/img/categories_v2/nightlife/pub_",
            "suffix": ".png"
           },
           "id": 13003,
           "name": "Bar",
           "plural_name": "Bars",
           "short_name": "Bar"
          },
          {
           "icon": {
            "prefix": "https://ss3.4sqi.net/img/categories_v2/food/cafe_",
            "suffix": ".png"
           },
           "id": 13034,
           "name": "Café",
           "plural_name": "Cafés",
           "short_name": "Café"
          },
          {
           "icon": {
            "prefix": "https://ss3.4sqi.net/img/categories_v2/food/default_",
            "suffix": ".png"
           },
           "id": 13065,
           "name": "Restaurant",
           "plural_name": "Restaurants",
           "short_name": "Restaurant"
          }
         ],
         "chains": [],
         "closed_bucket": "VeryLikelyOpen",
         "distance": 3865,
         "fsq_id": "56372298498eccf54c9b7aef",
         "geocodes": {
          "main": {
           "latitude": 51.527045,
           "longitude": -0.078584
          },
          "roof": {
           "latitude": 51.527045,
           "longitude": -0.078584
          }
         },
         "link": "/v3/places/56372298498eccf54c9b7aef",
         "location": {
          "address": "384 Old St",
          "admin_region": "England",
          "country": "GB",
          "cross_street": "",
          "formatted_address": "384 Old St, London, Greater London, EC1V 9LT",
          "locality": "London",
          "post_town": "London",
          "postcode": "EC1V 9LT",
          "region": "Greater London"
         },
         "name": "The Bike Shed",
         "related_places": {
          "children": [
           {
            "categories": [
             {
              "icon": {
               "prefix": "https://ss3.4sqi.net/img/categories_v2/shops/salon_barber_",
               "suffix": ".png"
              },
              "id": 11062,
              "name": "Barbershop",
              "plural_name": "Barbershops",
              "short_name": "Barbershop"
             }
            ],
            "fsq_id": "590dea1218d43b465d11f65b",
            "name": "Thy Barber"
           }
          ]
         },
         "timezone": "Europe/London"
        },
        {
         "categories": [
          {
           "icon": {
            "prefix": "https://ss3.4sqi.net/img/categories_v2/food/bakery_",
            "suffix": ".png"
           },
           "id": 13002,
           "name": "Bakery",
           "plural_name": "Bakeries",
           "short_name": "Bakery"
          },
          {
           "icon": {
            "prefix": "https://ss3.4sqi.net/img/categories_v2/food/coffeeshop_",
            "suffix": ".png"
           },
           "id": 13035,
           "name": "Coffee Shop",
           "plural_name": "Coffee Shops",
           "short_name": "Coffee Shop"
          },
          {
           "icon": {
            "prefix": "https://ss3.4sqi.net/img/categories_v2/food/default_",
            "suffix": ".png"
           },
           "id": 13065,
           "name": "Restaurant",
           "plural_name": "Restaurants",
           "short_name": "Restaurant"
          }
         ],
         "chains": [],
         "closed_bucket": "VeryLikelyOpen",
         "distance": 4578,
         "fsq_id": "592fcae84aa3f82f201056ea",
         "geocodes": {
          "drop_off": {
           "latitude": 51.549505,
           "longitude": -0.130024
          },
          "main": {
           "latitude": 51.549676,
           "longitude": -0.129856
          },
          "roof": {
           "latitude": 51.549676,
           "longitude": -0.129856
          }
         },
         "link": "/v3/places/592fcae84aa3f82f201056ea",
         "location": {
          "address": "30 Brecknock Rd",
          "admin_region": "England",
          "country": "GB",
          "cross_street": "",
          "formatted_address": "30 Brecknock Rd, Greater London, N7 0DD",
          "locality": "Greater London",
          "post_town": "London",
          "postcode": "N7 0DD",
          "region": "Greater London"
         },
         "name": "Bread by Bike",
         "related_places": {},
         "timezone": "Europe/London"
        },
        {
         "categories": [
          {
           "icon": {
            "prefix": "https://ss3.4sqi.net/img/categories_v2/shops/bikeshop_",
            "suffix": ".png"
           },
           "id": 17119,
           "name": "Bicycle Store",
           "plural_name": "Bicycle Stores",
           "short_name": "Bicycle Store"
          }
         ],
         "chains": [],
         "closed_bucket": "VeryLikelyOpen",
         "distance": 2574,
         "fsq_id": "5153ef77582ff7cb43bb617a",
         "geocodes": {
          "main": {
           "latitude": 51.50597,
           "longitude": -0.088849
          },
          "roof": {
           "latitude": 51.50597,
           "longitude": -0.088849
          }
         },
         "link": "/v3/places/5153ef77582ff7cb43bb617a",
         "location": {
          "address": "The Vaults, Montague Close",
          "admin_region": "England",
          "country": "GB",
          "formatted_address": "The Vaults, Montague Close, London, Greater London, SE1 9DA",
          "locality": "London",
          "post_town": "London",
          "postcode": "SE1 9DA",
          "region": "Greater London"
         },
         "name": "On Your Bike",
         "related_places": {},
         "timezone": "Europe/London"
        },
        {
         "categories": [
          {
           "icon": {
            "prefix": "https://ss3.4sqi.net/img/categories_v2/shops/beauty_cosmetic_",
            "suffix": ".png"
           },
           "id": 17030,
           "name": "Cosmetics Store",
           "plural_name": "Cosmetics Stores",
           "short_name": "Cosmetics"
          }
         ],
         "chains": [],
         "closed_bucket": "Unsure",
         "distance": 1247,
         "fsq_id": "4b0d8f6bf964a5200f4b23e3",
         "geocodes": {
          "main": {
           "latitude": 51.501219,
           "longitude": -0.112156
          },
          "roof": {
           "latitude": 51.501219,
           "longitude": -0.112156
          }
         },
         "link": "/v3/places/4b0d8f6bf964a5200f4b23e3",
         "location": {
          "address": "103 Lower Marsh",
          "admin_region": "England",
          "country": "GB",
          "cross_street": "Tanswell Street",
          "formatted_address": "103 Lower Marsh (Tanswell Street), London, Greater London, SE1 7AB",
          "locality": "London",
          "post_town": "London",
          "postcode": "SE1 7AB",
          "region": "Greater London"
         },
         "name": "Waterloo Body Station",
         "related_places": {
          "children": []
         },
         "timezone": "Europe/London"
        },
        {
         "categories": [
          {
           "icon": {
            "prefix": "https://ss3.4sqi.net/img/categories_v2/travel/trainstation_",
            "suffix": ".png"
           },
           "id": 19047,
           "name": "Rail Station",
           "plural_name": "Rail Stations",
           "short_name": "Rail Station"
          }
         ],
         "chains": [],
         "closed_bucket": "VeryLikelyOpen",
         "distance": 2189,
         "fsq_id": "628de3d4df27440aba4cfcdf",
         "geocodes": {
          "main": {
           "latitude": 51.51957887606202,
           "longitude": -0.0995206832885742
          }
         },
         "link": "/v3/places/628de3d4df27440aba4cfcdf",
         "location": {
          "address": "Cowcross St",
          "admin_region": "England",
          "country": "GB",
          "cross_street": "",
          "formatted_address": "Cowcross St, London, Greater London, EC1M 6BY",
          "locality": "London",
          "post_town": "London",
          "postcode": "EC1M 6BY",
          "region": "Greater London"
         },
         "name": "Farringdon Station – Elizabeth Line",
         "related_places": {
          "children": [],
          "parent": {
           "categories": [
            {
             "icon": {
              "prefix": "https://ss3.4sqi.net/img/categories_v2/travel/trainstation_",
              "suffix": ".png"
             },
             "id": 19047,
             "name": "Rail Station",
             "plural_name": "Rail Stations",
             "short_name": "Rail Station"
            }
           ],
           "fsq_id": "4d529fa880df88bf2e470098",
           "name": "Farringdon Railway Station"
          }
         },
         "timezone": "Europe/London"
        }
       ]
      },
      "text/plain": [
       "<IPython.core.display.JSON object>"
      ]
     },
     "execution_count": 228,
     "metadata": {
      "application/json": {
       "expanded": false,
       "root": "root"
      }
     },
     "output_type": "execute_result"
    }
   ],
   "source": [
    "JSON(bike_stations_data)"
   ]
  },
  {
   "cell_type": "code",
   "execution_count": 229,
   "id": "cbe74bb8-a049-4c9d-aba2-eddf59985675",
   "metadata": {},
   "outputs": [
    {
     "data": {
      "text/plain": [
       "{'fsq_id': '4c222b9d497cb713c9e46cd8',\n",
       " 'categories': [{'id': 16000,\n",
       "   'name': 'Landmarks and Outdoors',\n",
       "   'short_name': 'Landmarks and Outdoors',\n",
       "   'plural_name': 'Landmarks and Outdoors',\n",
       "   'icon': {'prefix': 'https://ss3.4sqi.net/img/categories_v2/parks_outdoors/default_',\n",
       "    'suffix': '.png'}}],\n",
       " 'chains': [],\n",
       " 'closed_bucket': 'VeryLikelyOpen',\n",
       " 'distance': 791,\n",
       " 'geocodes': {'main': {'latitude': 51.51210783292268,\n",
       "   'longitude': -0.11583924293518065}},\n",
       " 'link': '/v3/places/4c222b9d497cb713c9e46cd8',\n",
       " 'location': {'admin_region': 'England',\n",
       "  'country': 'GB',\n",
       "  'cross_street': 'at Surrey St',\n",
       "  'formatted_address': 'at Surrey St, London, Greater London, WC2R 2LS',\n",
       "  'locality': 'London',\n",
       "  'post_town': 'London',\n",
       "  'postcode': 'WC2R 2LS',\n",
       "  'region': 'Greater London'},\n",
       " 'name': 'Aldwych Underground Station',\n",
       " 'related_places': {},\n",
       " 'timezone': 'Europe/London'}"
      ]
     },
     "execution_count": 229,
     "metadata": {},
     "output_type": "execute_result"
    }
   ],
   "source": [
    "bike_stations_data['results'][0]"
   ]
  },
  {
   "cell_type": "code",
   "execution_count": 231,
   "id": "24b42fed-196e-4b98-ba40-58e20f18e42f",
   "metadata": {},
   "outputs": [
    {
     "name": "stdout",
     "output_type": "stream",
     "text": [
      "Name: Aldwych Underground Station\n",
      "Location: at Surrey St, London, Greater London, WC2R 2LS\n",
      "Categories: Landmarks and Outdoors\n",
      "\n",
      "\n",
      "Name: London St Pancras International Railway Station (STP)\n",
      "Location: Pancras Rd (Euston Rd), London, Greater London, NW1 2QP\n",
      "Categories: Rail Station\n",
      "\n",
      "\n",
      "Name: citizenM Victoria Station\n",
      "Location: 292 Vauxhall Bridge Rd, Victoria, Greater London, SW1V 1AE\n",
      "Categories: Hotel\n",
      "\n",
      "\n",
      "Name: Machine Cycling Café/Bike Shop and Repairs\n",
      "Location: 97 Tower Bridge Rd, London, Greater London, SE1 4TW\n",
      "Categories: Bicycle Store\n",
      "\n",
      "\n",
      "Name: London King's Cross Railway Station (KGX)\n",
      "Location: Euston Rd (York Way), London, Greater London, N1C 4TB\n",
      "Categories: Rail Station\n",
      "\n",
      "\n",
      "Name: The Bike Shed\n",
      "Location: 384 Old St, London, Greater London, EC1V 9LT\n",
      "Categories: Bar, Café, Restaurant\n",
      "\n",
      "\n",
      "Name: Bread by Bike\n",
      "Location: 30 Brecknock Rd, Greater London, N7 0DD\n",
      "Categories: Bakery, Coffee Shop, Restaurant\n",
      "\n",
      "\n",
      "Name: On Your Bike\n",
      "Location: The Vaults, Montague Close, London, Greater London, SE1 9DA\n",
      "Categories: Bicycle Store\n",
      "\n",
      "\n",
      "Name: Waterloo Body Station\n",
      "Location: 103 Lower Marsh (Tanswell Street), London, Greater London, SE1 7AB\n",
      "Categories: Cosmetics Store\n",
      "\n",
      "\n",
      "Name: Farringdon Station – Elizabeth Line\n",
      "Location: Cowcross St, London, Greater London, EC1M 6BY\n",
      "Categories: Rail Station\n",
      "\n",
      "\n"
     ]
    }
   ],
   "source": [
    "# Assuming bike_stations_data['results'] is a list of POIs\n",
    "for poi_details in bike_stations_data['results']:\n",
    "    # Extracting name\n",
    "    poi_name = poi_details['name']\n",
    "    \n",
    "    # Extracting location\n",
    "    poi_location = poi_details['location']\n",
    "    \n",
    "    # Extracting categories\n",
    "    categories = poi_details.get('categories', [])\n",
    "    category_names = [category['name'] for category in categories]\n",
    "    \n",
    "    # Extracting other details as needed\n",
    "    formatted_address = poi_location.get('formatted_address', 'N/A')\n",
    "\n",
    "    # Printing or using the extracted details\n",
    "    print(\"Name:\", poi_name)\n",
    "    print(\"Location:\", formatted_address)\n",
    "    print(\"Categories:\", ', '.join(category_names))\n",
    "    print(\"\\n\")\n"
   ]
  },
  {
   "cell_type": "code",
   "execution_count": 232,
   "id": "07db43bb-ad1c-4343-820d-d74bdff608ec",
   "metadata": {},
   "outputs": [
    {
     "name": "stdout",
     "output_type": "stream",
     "text": [
      "<class 'dict'>\n",
      "dict_keys(['results', 'context'])\n"
     ]
    }
   ],
   "source": [
    "print(type(bike_stations_data))\n",
    "if isinstance(bike_stations_data, dict):\n",
    "    print(bike_stations_data.keys())"
   ]
  },
  {
   "cell_type": "code",
   "execution_count": null,
   "id": "b574e28d-3fea-4002-bc5b-fcfe6276df45",
   "metadata": {},
   "outputs": [],
   "source": [
    "import pandas as pd\n",
    "\n",
    "# Create empty lists to store extracted details\n",
    "names = []\n",
    "locations = []\n",
    "categories_list = []\n",
    "\n",
    "# Iterate over each item in bike_stations_data\n",
    "for poi_details in bike_stations_data:\n",
    "    # Extracting name\n",
    "    poi_name = poi_details['name']\n",
    "    names.append(poi_name)\n",
    "    \n",
    "    # Extracting location\n",
    "    poi_location = poi_details['location']\n",
    "    formatted_address = poi_location.get('formatted_address', 'N/A')\n",
    "    locations.append(formatted_address)\n",
    "    \n",
    "    # Extracting categories\n",
    "    categories = poi_details.get('categories', [])\n",
    "    category_names = ', '.join([category['name'] for category in categories])\n",
    "    categories_list.append(category_names)\n",
    "\n",
    "# Create a DataFrame\n",
    "df = pd.DataFrame({\n",
    "    'Name': names,\n",
    "    'Location': locations,\n",
    "    'Categories': categories_list\n",
    "})\n",
    "\n",
    "# Display the DataFrame\n",
    "print(df)\n"
   ]
  },
  {
   "cell_type": "code",
   "execution_count": null,
   "id": "96dc809b-7c31-4cbe-bb3b-a2ddc9664b66",
   "metadata": {},
   "outputs": [],
   "source": [
    "# Assuming you have a list of dictionaries after extraction\n",
    "data_for_df = []\n",
    "for poi_details in bike_stations_data:\n",
    "    # Extract your details here, similar to what you've done\n",
    "    data_point = {\n",
    "        \"Name\": poi_details['name'],\n",
    "        \"Location\": poi_details['location'].get('formatted_address', 'N/A'),\n",
    "        \"Categories\": ', '.join([category['name'] for category in poi_details.get('categories', [])])\n",
    "    }\n",
    "    data_for_df.append(data_point)\n",
    "\n",
    "# Before converting to DataFrame, print a few entries to examine\n",
    "print(data_for_df[:5])"
   ]
  },
  {
   "cell_type": "code",
   "execution_count": null,
   "id": "306cdf44-a844-4798-834a-659a21d63a8d",
   "metadata": {},
   "outputs": [],
   "source": [
    "# Debugging: Print the first few elements' structure and contents\n",
    "for poi_details in bike_stations_data[:5]:  # Adjust slice as needed\n",
    "    print(poi_details)  # See the actual structure and available data"
   ]
  },
  {
   "cell_type": "code",
   "execution_count": null,
   "id": "01a93044-1685-4821-a913-95fa92cc1ad4",
   "metadata": {},
   "outputs": [],
   "source": [
    "data_for_df = []\n",
    "\n",
    "for poi_details in bike_stations_data:\n",
    "    # Start with a very basic extraction to ensure some data is captured\n",
    "    data_point = {\n",
    "        \"Name\": poi_details.get('name', 'N/A')  # Use 'N/A' for missing names\n",
    "    }\n",
    "    data_for_df.append(data_point)\n",
    "\n",
    "# Check if this minimal data shows up\n",
    "print(data_for_df[:5])"
   ]
  },
  {
   "cell_type": "code",
   "execution_count": null,
   "id": "15c6a360-c21d-4e80-a86e-3ea79b75d85a",
   "metadata": {},
   "outputs": [],
   "source": [
    "print(len(names), len(locations), len(categories_list))  # Check if lists are populated\n",
    "print(names[:5], locations[:5], categories_list[:5])  # Preview the first few elements"
   ]
  },
  {
   "cell_type": "code",
   "execution_count": null,
   "id": "27c3f344-8696-4cf6-a4a5-c8ccf068333c",
   "metadata": {},
   "outputs": [],
   "source": [
    "print(bike_stations_data[:5])  # Print the first 5 entries to check their structure"
   ]
  },
  {
   "cell_type": "code",
   "execution_count": null,
   "id": "22424901-7ad4-4b65-baa6-cd2944ee6fa8",
   "metadata": {},
   "outputs": [],
   "source": [
    "for poi_details in bike_stations_data:\n",
    "    assert 'name' in poi_details, \"Name key missing\"\n",
    "    assert 'location' in poi_details, \"Location key missing\"\n",
    "    assert 'categories' in poi_details, \"Categories key missing\"\n",
    "    # If the above assertions pass, it confirms the expected keys are present."
   ]
  },
  {
   "cell_type": "code",
   "execution_count": null,
   "id": "99142e17-6d22-4f6b-9fe6-5f33810801bd",
   "metadata": {},
   "outputs": [],
   "source": [
    "for poi_details in bike_stations_data:\n",
    "    # Example of safe access with .get()\n",
    "    poi_name = poi_details.get('name', 'N/A')"
   ]
  },
  {
   "cell_type": "code",
   "execution_count": null,
   "id": "39a6ca96-c6aa-4e97-bab1-43325dbd3300",
   "metadata": {},
   "outputs": [],
   "source": [
    "for poi_details in bike_stations_data:\n",
    "    print(\"Processing an item...\")  # This should print as many times as there are items"
   ]
  },
  {
   "cell_type": "code",
   "execution_count": null,
   "id": "64d27d81-8ff6-45dd-a3ce-d090adb8f32e",
   "metadata": {},
   "outputs": [],
   "source": [
    "print(len(bike_stations_data))\n",
    "print(bike_stations_data[:5])"
   ]
  },
  {
   "cell_type": "code",
   "execution_count": null,
   "id": "8898cd7e-de47-4aaa-92f5-38b20474900f",
   "metadata": {},
   "outputs": [],
   "source": [
    "print(bike_stations_data)"
   ]
  },
  {
   "cell_type": "code",
   "execution_count": null,
   "id": "7bedf47a-7371-48ea-9ba6-48cf85be6459",
   "metadata": {},
   "outputs": [],
   "source": [
    "print(bike_stations_df)"
   ]
  },
  {
   "cell_type": "code",
   "execution_count": null,
   "id": "630c836e-5a8f-466e-b60a-194866b5dd10",
   "metadata": {},
   "outputs": [],
   "source": [
    "# Assuming bike_stations_df and yelp_df are pandas DataFrames\n",
    "# Printing bike_stations_df\n",
    "print(\"Bike Stations DataFrame:\")\n",
    "print(bike_stations_df)\n",
    "\n",
    "# Printing yelp_df\n",
    "print(\"\\nYelp DataFrame:\")\n",
    "print(yelp_df)\n"
   ]
  },
  {
   "cell_type": "code",
   "execution_count": null,
   "id": "1160c915-9773-4dc8-9291-888963195824",
   "metadata": {},
   "outputs": [],
   "source": [
    "#Parse through the response to get the Points of Interest such as restaurants, bars\n",
    "#details include ratings, name, location and results are put into a DataFrame\n",
    "import pandas as pd\n",
    "import requests\n",
    "import os\n",
    "\n",
    "def search_yelp_nearby(api_key, coordinates):\n",
    "    url = \"https://api.yelp.com/v3/businesses/search\"\n",
    "    headers = {\n",
    "        \"Authorization\": f\"Bearer {api_key}\"\n",
    "    }\n",
    "    params = {\n",
    "        \"latitude\": coordinates.split(',')[0],  # Extracting latitude from coordinates\n",
    "        \"longitude\": coordinates.split(',')[1],  # Extracting longitude from coordinates\n",
    "        \"radius\": 1000,  # Radius in meters\n",
    "        \"categories\": \"restaurants,bars\",  # Search for restaurants and bars\n",
    "        \"limit\": 10  # Limiting to 10 results\n",
    "    }\n",
    "    response = requests.get(url, headers=headers, params=params)\n",
    "    return response.json()\n",
    "\n",
    "# Example coordinates of a bike station in London\n",
    "london_bike_station_coordinates = \"51.5074,-0.1278\"  # Latitude and longitude of central London\n",
    "\n",
    "# Replace YOUR_YELP_API_KEY with your actual Yelp API key\n",
    "yelp_api_key = \"DBBivZRzCVjU0QHAxc2W91b81RojI9BLt5g2Xs_UtxJKiHpCs-0umJUGdEg9o9yECUxxyDF4Xe37er7SNHv6HgsW_27Yn-Rn4bXbft-KXqPmDzlcLUSLo4maGog1ZnYx\"\n",
    "\n",
    "# Send a request to Yelp for nearby businesses\n",
    "yelp_nearby_data = search_yelp_nearby(yelp_api_key, london_bike_station_coordinates)\n",
    "\n",
    "# Extract relevant information from the response\n",
    "businesses = yelp_nearby_data['businesses']\n",
    "business_details = []\n",
    "for business in businesses:\n",
    "    name = business['name']\n",
    "    category = ', '.join([cat['title'] for cat in business['categories']])\n",
    "    address = business['location']['address1'] if 'address1' in business['location'] else 'N/A'\n",
    "    rating = business['rating'] if 'rating' in business else 'N/A'\n",
    "    location = f\"{business['coordinates']['latitude']}, {business['coordinates']['longitude']}\"\n",
    "    id = business['id']\n",
    "    business_details.append({'Name': name, 'Category': category, 'Address': address, 'Rating': rating, 'Location': location, 'id':id})\n",
    "\n",
    "# Create a DataFrame\n",
    "yelp_df = pd.DataFrame(business_details)\n",
    "\n",
    "# Print the DataFrame\n",
    "print(yelp_df)"
   ]
  },
  {
   "cell_type": "code",
   "execution_count": null,
   "id": "6f4bbcea-93d0-4e56-8f69-ac26a0de4b87",
   "metadata": {},
   "outputs": [],
   "source": [
    "# Assuming bike_stations_df and yelp_df are pandas DataFrames\n",
    "\n",
    "# Concatenate the DataFrames vertically\n",
    "combined_df = pd.concat([bike_stations_df, yelp_df])\n",
    "\n",
    "# Print the combined DataFrame\n",
    "print(\"Combined DataFrame:\")\n",
    "print(combined_df)\n"
   ]
  },
  {
   "cell_type": "code",
   "execution_count": null,
   "id": "aa2366f5-306f-4ed7-96db-1b8760126e4f",
   "metadata": {},
   "outputs": [],
   "source": [
    "# Assuming bike_stations_df and yelp_df are pandas DataFrames\n",
    "\n",
    "# Create a new column in each DataFrame with the same constant value\n",
    "bike_stations_df['key'] = 1\n",
    "yelp_df['key'] = 1\n",
    "\n",
    "# Perform the Cartesian product\n",
    "joined_df = pd.merge(bike_stations_df, yelp_df, on='key', how='outer')\n",
    "\n",
    "# Drop the key column\n",
    "joined_df.drop('key', axis=1, inplace=True)\n",
    "\n",
    "# Print the joined DataFrame\n",
    "print(\"Joined DataFrame:\")\n",
    "print(joined_df)\n"
   ]
  },
  {
   "cell_type": "code",
   "execution_count": null,
   "id": "0ce42a83-7929-451b-8dd5-536edc75388d",
   "metadata": {},
   "outputs": [],
   "source": [
    "# Assuming bike_stations_df and yelp_df are pandas DataFrames\n",
    "\n",
    "# Merge on the index of bike_stations_df and yelp_df\n",
    "joined_df = pd.merge(bike_stations_df, yelp_df, left_index=True, right_index=True, how='inner')\n",
    "\n",
    "# Print the joined DataFrame\n",
    "print(\"Joined DataFrame:\")\n",
    "print(joined_df)\n"
   ]
  },
  {
   "cell_type": "code",
   "execution_count": 243,
   "id": "ed540fc7-c86f-4b01-867c-8c437ab369b5",
   "metadata": {},
   "outputs": [
    {
     "data": {
      "image/png": "[encoded data removed]",
      "text/plain": [
       "<Figure size 1000x600 with 1 Axes>"
      ]
     },
     "metadata": {},
     "output_type": "display_data"
    }
   ],
   "source": [
    "import matplotlib.pyplot as plt\n",
    "\n",
    "# Grouping by station and calculating average rating\n",
    "station_avg_rating = joined_df.groupby('station_name')['rating'].mean().reset_index()\n",
    "\n",
    "# Sorting by average rating\n",
    "station_avg_rating_sorted = station_avg_rating.sort_values(by='rating', ascending=False)\n",
    "\n",
    "# Plotting\n",
    "plt.figure(figsize=(10, 6))\n",
    "plt.bar(station_avg_rating_sorted['station_name'], station_avg_rating_sorted['rating'], color='skyblue')\n",
    "plt.xlabel('Station Name')\n",
    "plt.ylabel('Average Rating')\n",
    "plt.title('Average Yelp Rating of Businesses Near Bike Stations')\n",
    "plt.xticks(rotation=45, ha='right')\n",
    "plt.tight_layout()\n",
    "plt.show()\n"
   ]
  },
  {
   "cell_type": "code",
   "execution_count": 244,
   "id": "28fd31e6-128c-436d-8be1-9d292706ed96",
   "metadata": {},
   "outputs": [],
   "source": [
    "import pandas as pd\n",
    "import numpy as np\n",
    "import matplotlib.pyplot as plt\n",
    "import seaborn as sns\n"
   ]
  },
  {
   "cell_type": "code",
   "execution_count": null,
   "id": "e9a9fa61-8d67-4f13-9e9d-592dfe2fa456",
   "metadata": {},
   "outputs": [],
   "source": [
    "joined_df = pd.read_csv('joined_df.csv')\n"
   ]
  },
  {
   "cell_type": "code",
   "execution_count": null,
   "id": "7b224b93-9060-4c7b-8a5a-9ddd2f099880",
   "metadata": {},
   "outputs": [],
   "source": [
    "print(\"Summary Statistics:\")\n",
    "print(joined_df.describe())\n"
   ]
  },
  {
   "cell_type": "code",
   "execution_count": 245,
   "id": "a9ff49c7-c0eb-42c0-9dd0-7b961fd462f9",
   "metadata": {},
   "outputs": [
    {
     "data": {
      "image/png": "[encoded data removed]",
      "text/plain": [
       "<Figure size 640x480 with 1 Axes>"
      ]
     },
     "metadata": {},
     "output_type": "display_data"
    }
   ],
   "source": [
    "plt.hist(joined_df['station_name'])\n",
    "plt.xlabel('station_name')\n",
    "plt.ylabel('capacity')\n",
    "plt.title('rating')\n",
    "plt.show()\n",
    "\n"
   ]
  },
  {
   "cell_type": "code",
   "execution_count": 242,
   "id": "fe70fadc-1abc-4bdf-9a95-d38a1b0555a2",
   "metadata": {},
   "outputs": [
    {
     "data": {
      "image/png": "[encoded data removed]",
      "text/plain": [
       "<Figure size 640x480 with 2 Axes>"
      ]
     },
     "metadata": {},
     "output_type": "display_data"
    }
   ],
   "source": [
    "# Selecting only numerical columns\n",
    "numerical_df = yelp_df.select_dtypes(include=['float64', 'int64'])\n",
    "\n",
    "# Compute the correlation matrix\n",
    "correlation_matrix = numerical_df.corr()\n",
    "\n",
    "# Plot the heatmap\n",
    "sns.heatmap(correlation_matrix, annot=True, cmap='coolwarm')\n",
    "plt.title('Correlation Heatmap')\n",
    "plt.show()\n"
   ]
  },
  {
   "cell_type": "code",
   "execution_count": 250,
   "id": "05341fde-6fbf-4e2c-845d-2702e8083965",
   "metadata": {},
   "outputs": [
    {
     "data": {
      "image/png": "[encoded data removed]",
      "text/plain": [
       "<Figure size 640x480 with 1 Axes>"
      ]
     },
     "metadata": {},
     "output_type": "display_data"
    }
   ],
   "source": [
    "import pandas as pd\n",
    "import numpy as np\n",
    "import matplotlib.pyplot as plt\n",
    "import seaborn as sns\n",
    "\n",
    "\n",
    "yelp_df = yelp_df\n",
    "\n",
    "\n",
    "plt.scatter(yelp_df['Category'], yelp_df['Rating'])\n",
    "plt.xlabel('Category')\n",
    "plt.ylabel('rating')\n",
    "plt.show()\n"
   ]
  },
  {
   "cell_type": "code",
   "execution_count": 239,
   "id": "f9a4b703-ac3f-473d-a202-18b2b70f9b0e",
   "metadata": {},
   "outputs": [
    {
     "name": "stdout",
     "output_type": "stream",
     "text": [
      "Index(['Name', 'Category', 'Address', 'Rating', 'Location'], dtype='object')\n"
     ]
    }
   ],
   "source": [
    "# Print the column names of yelp_df\n",
    "print(yelp_df.columns)\n"
   ]
  },
  {
   "cell_type": "code",
   "execution_count": 252,
   "id": "861dfe29-713d-4a40-be11-c85045870e53",
   "metadata": {},
   "outputs": [
    {
     "data": {
      "image/png": "[encoded data removed]",
      "text/plain": [
       "<Figure size 640x480 with 1 Axes>"
      ]
     },
     "metadata": {},
     "output_type": "display_data"
    }
   ],
   "source": [
    "import seaborn as sns\n",
    "\n",
    "# Assuming yelp_df is your DataFrame\n",
    "sns.boxplot(x='Category', y='Rating', data=yelp_df)  # Use 'rating' instead of 'Rating'\n",
    "plt.xlabel('Category')\n",
    "plt.ylabel('Rating')\n",
    "plt.title('Box Plot of Yelp Ratings by Category')\n",
    "plt.show()\n"
   ]
  },
  {
   "cell_type": "code",
   "execution_count": 238,
   "id": "3411abf3-26c1-4c62-bcd9-efd303ff5059",
   "metadata": {},
   "outputs": [
    {
     "name": "stderr",
     "output_type": "stream",
     "text": [
      "C:\\Users\\Ayiwoma\\anaconda4\\Lib\\site-packages\\seaborn\\_oldcore.py:1119: FutureWarning: use_inf_as_na option is deprecated and will be removed in a future version. Convert inf values to NaN before operating instead.\n",
      "  with pd.option_context('mode.use_inf_as_na', True):\n"
     ]
    },
    {
     "data": {
      "image/png": "[encoded data removed]",
      "text/plain": [
       "<Figure size 324.861x250 with 2 Axes>"
      ]
     },
     "metadata": {},
     "output_type": "display_data"
    }
   ],
   "source": [
    "sns.pairplot(yelp_df, hue='Category')\n",
    "plt.title('Pair Plot')\n",
    "plt.show()\n"
   ]
  },
  {
   "cell_type": "code",
   "execution_count": null,
   "id": "5a0e39ba-2f00-45f1-8b4d-5c1e38534948",
   "metadata": {},
   "outputs": [],
   "source": [
    "import sqlite3\n",
    "\n",
    "# Connect to the SQLite database (creates the database file if it doesn't exist)\n",
    "conn = sqlite3.connect('joined_df.db')\n",
    "\n",
    "# Save the DataFrame to the database\n",
    "joined_df.to_sql('joined_data', conn, if_exists='replace', index=False)\n",
    "\n",
    "# Commit the changes and close the connection\n",
    "conn.commit()\n",
    "conn.close()\n",
    "\n",
    "print(\"DataFrame saved to SQLite database.\")\n"
   ]
  },
  {
   "cell_type": "code",
   "execution_count": 236,
   "id": "080fd045-1e07-46e6-9a4f-c9fe29e73fc3",
   "metadata": {},
   "outputs": [
    {
     "name": "stdout",
     "output_type": "stream",
     "text": [
      "(101, 'Aldwych Underground Station', 20, 'Dishoom', 'Indian', 4.5)\n",
      "(101, 'Aldwych Underground Station', 20, 'Barrafina', 'British, Steakhouses, Cocktail Bars', 4.4)\n",
      "(101, 'Aldwych Underground Station', 20, 'The Admiralty', 'Steakhouses, British', 3.8)\n",
      "(102, 'London St Pancras International Railway Statio...', 30, 'Dishoom', 'Indian', 4.5)\n",
      "(102, 'London St Pancras International Railway Statio...', 30, 'Barrafina', 'British, Steakhouses, Cocktail Bars', 4.4)\n",
      "(102, 'London St Pancras International Railway Statio...', 30, 'The Admiralty', 'Steakhouses, British', 3.8)\n",
      "(103, 'citizenM Victoria Station', 25, 'Dishoom', 'Indian', 4.5)\n",
      "(103, 'citizenM Victoria Station', 25, 'Barrafina', 'British, Steakhouses, Cocktail Bars', 4.4)\n",
      "(103, 'citizenM Victoria Station', 25, 'The Admiralty', 'Steakhouses, British', 3.8)\n"
     ]
    }
   ],
   "source": [
    "import sqlite3\n",
    "\n",
    "# Connect to the SQLite database\n",
    "conn = sqlite3.connect('joined_df.db')\n",
    "\n",
    "# Create a cursor object to execute SQL queries\n",
    "cursor = conn.cursor()\n",
    "\n",
    "# Execute a SELECT query to retrieve all records from the 'joined_data' table\n",
    "cursor.execute(\"SELECT * FROM joined_data\")\n",
    "\n",
    "# Fetch all records\n",
    "records = cursor.fetchall()\n",
    "\n",
    "# Print the records\n",
    "for record in records:\n",
    "    print(record)\n",
    "\n",
    "# Close the cursor and the connection\n",
    "cursor.close()\n",
    "conn.close()\n"
   ]
  },
  {
   "cell_type": "code",
   "execution_count": null,
   "id": "977146e6-3c3c-4530-aae1-67be3ad8bbda",
   "metadata": {},
   "outputs": [],
   "source": [
    "import pandas as pd\n",
    "from sklearn.model_selection import train_test_split\n",
    "from sklearn.linear_model import LinearRegression\n",
    "from sklearn.metrics import mean_squared_error, r2_score\n",
    "\n",
    "# Assuming 'joined_df' is your DataFrame with features and target variable\n",
    "\n",
    "# Step 1: Data Preprocessing\n",
    "# Example: Handling missing values (replace NaN with mean)\n",
    "joined_df.fillna(joined_df.mean(), inplace=True)\n",
    "\n",
    "# Splitting the data into features (X) and target variable (y)\n",
    "X = joined_df.drop('rating', axis=1)  # Replace 'target_column' with the actual name of your target column\n",
    "y = joined_df['category']\n",
    "\n",
    "# Step 2: Splitting the Data\n",
    "X_train, X_test, y_train, y_test = train_test_split(X, y, test_size=0.2, random_state=42)\n",
    "\n",
    "# Step 3: Model Selection\n",
    "model = LinearRegression()\n",
    "\n",
    "# Step 4: Training the Model\n",
    "model.fit(X_train, y_train)\n",
    "\n",
    "# Step 5: Evaluation\n",
    "y_pred = model.predict(X_test)\n",
    "mse = mean_squared_error(y_test, y_pred)\n",
    "r2 = r2_score(y_test, y_pred)\n",
    "print(\"Mean Squared Error:\", mse)\n",
    "print(\"R-squared Score:\", r2)\n",
    "\n",
    "# Step 6: Prediction (if needed)\n",
    "# new_data = ...  # Prepare new data for prediction\n",
    "# prediction = model.predict(new_data)\n"
   ]
  },
  {
   "cell_type": "code",
   "execution_count": null,
   "id": "3e8989b6-b883-476a-b0e5-35bd68cef6f9",
   "metadata": {},
   "outputs": [],
   "source": [
    "# Step 1: Data Preprocessing\n",
    "# Example: Handling missing values for numeric columns (replace NaN with mean)\n",
    "numeric_df = joined_df.select_dtypes(include=['float64', 'int64'])\n",
    "numeric_df.fillna(numeric_df.mean(), inplace=True)\n",
    "\n",
    "# Merge the processed numeric columns back with non-numeric columns\n",
    "processed_df = pd.concat([numeric_df, joined_df.select_dtypes(exclude=['float64', 'int64'])], axis=1)\n"
   ]
  },
  {
   "cell_type": "code",
   "execution_count": null,
   "id": "826e29a2-8fc5-44a0-9842-caeb9f09beba",
   "metadata": {},
   "outputs": [],
   "source": [
    "print(processed_df)"
   ]
  },
  {
   "cell_type": "code",
   "execution_count": null,
   "id": "83df432d-1dac-440c-9f93-1a6bcde28fc8",
   "metadata": {},
   "outputs": [],
   "source": [
    "# Assuming 'joined_df' is your DataFrame with features and target variable\n",
    "\n",
    "# Splitting the data into features (X) and target variable (y)\n",
    "X = joined_df.drop('Category', axis=1)  # Replace 'target_column' with the actual name of your target column\n",
    "y = joined_df['rating']\n"
   ]
  },
  {
   "cell_type": "code",
   "execution_count": null,
   "id": "e677ba2c-17d3-4b64-987a-17ec07ab8713",
   "metadata": {},
   "outputs": [],
   "source": [
    "# Assuming 'X_train' is your DataFrame containing features\n",
    "\n",
    "# One-hot encode categorical variables\n",
    "X_train_encoded = pd.get_dummies(X_train)\n",
    "\n",
    "# Now, you can proceed to build the regression model using X_train_encoded\n"
   ]
  },
  {
   "cell_type": "code",
   "execution_count": 235,
   "id": "44db5a26-73b0-4290-8e58-cc6baef2ad4f",
   "metadata": {},
   "outputs": [],
   "source": [
    "import numpy as np\n",
    "import pandas as pd\n",
    "import matplotlib.pyplot as plt\n",
    "from sklearn.model_selection import train_test_split\n",
    "from sklearn.linear_model import LinearRegression\n"
   ]
  },
  {
   "cell_type": "code",
   "execution_count": 234,
   "id": "ee7fe12f-6585-48d5-91e4-34e3e3292c44",
   "metadata": {},
   "outputs": [
    {
     "name": "stdout",
     "output_type": "stream",
     "text": [
      "Mean Squared Error: 3.944304526105059e-31\n",
      "R-squared Score: 0.0\n"
     ]
    }
   ],
   "source": [
    "from sklearn.preprocessing import OneHotEncoder, StandardScaler\n",
    "from sklearn.impute import SimpleImputer\n",
    "from sklearn.compose import ColumnTransformer\n",
    "from sklearn.pipeline import Pipeline\n",
    "\n",
    "# Assume 'joined_df' is your DataFrame containing features and target variable\n",
    "\n",
    "# Separate features and target variable\n",
    "X = joined_df.drop('Category', axis=1)\n",
    "y = joined_df['rating']\n",
    "\n",
    "# Define columns with different data types\n",
    "numeric_features = X.select_dtypes(include=['int64', 'float64']).columns\n",
    "categorical_features = X.select_dtypes(include=['object']).columns\n",
    "\n",
    "# Define preprocessing steps for numerical and categorical features\n",
    "numeric_transformer = Pipeline(steps=[\n",
    "    ('imputer', SimpleImputer(strategy='mean')),  # Impute missing values with mean\n",
    "    ('scaler', StandardScaler())  # Standardize features\n",
    "])\n",
    "\n",
    "categorical_transformer = Pipeline(steps=[\n",
    "    ('imputer', SimpleImputer(strategy='most_frequent')),  # Impute missing values with most frequent category\n",
    "    ('onehot', OneHotEncoder(handle_unknown='ignore'))  # One-hot encode categorical variables\n",
    "])\n",
    "\n",
    "# Combine preprocessing steps for numerical and categorical features\n",
    "preprocessor = ColumnTransformer(\n",
    "    transformers=[\n",
    "        ('num', numeric_transformer, numeric_features),\n",
    "        ('cat', categorical_transformer, categorical_features)\n",
    "    ])\n",
    "\n",
    "# Create a pipeline with preprocessing and regression model\n",
    "pipeline = Pipeline(steps=[('preprocessor', preprocessor),\n",
    "                           ('regression', LinearRegression())])\n",
    "\n",
    "# Split the data into training and testing sets\n",
    "X_train, X_test, y_train, y_test = train_test_split(X, y, test_size=0.2, random_state=42)\n",
    "\n",
    "# Train the model\n",
    "pipeline.fit(X_train, y_train)\n",
    "\n",
    "# Evaluate the model\n",
    "y_pred = pipeline.predict(X_test)\n",
    "mse = mean_squared_error(y_test, y_pred)\n",
    "r2 = r2_score(y_test, y_pred)\n",
    "\n",
    "print(\"Mean Squared Error:\", mse)\n",
    "print(\"R-squared Score:\", r2)\n"
   ]
  },
  {
   "cell_type": "code",
   "execution_count": null,
   "id": "ba50f0e6-e686-4c47-bd91-de9ab14eb7f9",
   "metadata": {},
   "outputs": [],
   "source": [
    "from sklearn.model_selection import train_test_split\n",
    "\n",
    "# Split the dataset into training and testing sets (80% train, 20% test)\n",
    "X_train, X_test, y_train, y_test = train_test_split(X, y, test_size=0.2, random_state=42)\n"
   ]
  },
  {
   "cell_type": "code",
   "execution_count": null,
   "id": "6af5bbd5-cf25-4178-93fe-8c47170e2080",
   "metadata": {},
   "outputs": [],
   "source": [
    "print(X_train.dtypes)\n",
    "\n"
   ]
  },
  {
   "cell_type": "code",
   "execution_count": null,
   "id": "95f33666-3037-49f1-a2f2-5514c98ace64",
   "metadata": {},
   "outputs": [],
   "source": [
    "# Perform one-hot encoding\n",
    "X_train_encoded = pd.get_dummies(X_train, columns=['station_name', 'Name'])\n",
    "\n",
    "# Now, check the data types again\n",
    "print(X_train_encoded.dtypes)\n"
   ]
  },
  {
   "cell_type": "code",
   "execution_count": null,
   "id": "a9b237f6-1f38-4026-a614-54729ad9ed5b",
   "metadata": {},
   "outputs": [],
   "source": [
    "from sklearn.model_selection import train_test_split\n",
    "from sklearn.preprocessing import OneHotEncoder\n",
    "from sklearn.compose import ColumnTransformer\n",
    "from sklearn.pipeline import Pipeline\n",
    "from sklearn.linear_model import LinearRegression\n",
    "import pandas as pd\n",
    "\n",
    "# Assuming 'joined_df' is your DataFrame with features and target variable\n",
    "# Separate features and target variable\n",
    "X = joined_df.drop('rating', axis=1)\n",
    "y = joined_df['rating']\n",
    "\n",
    "# Split the data into training and testing sets\n",
    "X_train, X_test, y_train, y_test = train_test_split(X, y, test_size=0.2, random_state=42)\n",
    "\n",
    "# Identify categorical columns\n",
    "categorical_cols = [col for col in X_train.columns if X_train[col].dtype == 'object']\n",
    "\n",
    "# Define preprocessing steps\n",
    "preprocessor = ColumnTransformer(\n",
    "    transformers=[\n",
    "        ('onehot', OneHotEncoder(drop='first'), categorical_cols)\n",
    "    ],\n",
    "    remainder='passthrough'\n",
    ")\n",
    "\n",
    "# Create a pipeline with preprocessing and linear regression model\n",
    "pipeline = Pipeline(steps=[\n",
    "    ('preprocessor', preprocessor),\n",
    "    ('regressor', LinearRegression())\n",
    "])\n",
    "\n",
    "# Train the model\n",
    "pipeline.fit(X_train, y_train)\n",
    "\n",
    "# Evaluate the model\n",
    "y_pred = pipeline.predict(X_test)\n",
    "\n"
   ]
  },
  {
   "cell_type": "code",
   "execution_count": null,
   "id": "d4607cf1-6a72-4095-aa0e-3dcc0534be7b",
   "metadata": {},
   "outputs": [],
   "source": [
    "from sklearn.model_selection import train_test_split\n",
    "from sklearn.linear_model import LogisticRegression\n",
    "from sklearn.datasets import load_iris\n",
    "from sklearn.preprocessing import StandardScaler\n",
    "\n",
    "# Load the iris dataset (example dataset)\n",
    "iris = load_iris()\n",
    "X = iris.data\n",
    "y = iris.target\n",
    "\n",
    "# Split the data into training and testing sets\n",
    "X_train, X_test, y_train, y_test = train_test_split(X, y, test_size=0.2, random_state=42)\n",
    "\n",
    "# Scale the input features\n",
    "scaler = StandardScaler()\n",
    "X_train_scaled = scaler.fit_transform(X_train)\n",
    "X_test_scaled = scaler.transform(X_test)\n",
    "\n",
    "# Initialize the Logistic Regression model\n",
    "model = LogisticRegression(multi_class='multinomial', solver='lbfgs', max_iter=1000)\n",
    "\n",
    "# Train the model on the training data\n",
    "model.fit(X_train_scaled, y_train)\n",
    "\n",
    "# Make predictions on the testing data\n",
    "y_pred = model.predict(X_test_scaled)\n",
    "\n",
    "# Evaluate the model\n",
    "accuracy = model.score(X_test_scaled, y_test)\n",
    "print(\"Accuracy:\", accuracy)\n"
   ]
  },
  {
   "cell_type": "code",
   "execution_count": null,
   "id": "65054dd4-cdeb-4f76-9084-7acb0db0c0a8",
   "metadata": {},
   "outputs": [],
   "source": [
    "from sklearn.metrics import accuracy_score, confusion_matrix, classification_report\n",
    "\n",
    "# Calculate accuracy score\n",
    "accuracy = accuracy_score(y_test, y_pred)\n",
    "print(\"Accuracy:\", accuracy)\n",
    "\n",
    "# Print confusion matrix\n",
    "conf_matrix = confusion_matrix(y_test, y_pred)\n",
    "print(\"Confusion Matrix:\")\n",
    "print(conf_matrix)\n",
    "\n",
    "# Print classification report\n",
    "class_report = classification_report(y_test, y_pred)\n",
    "print(\"Classification Report:\")\n",
    "print(class_report)\n",
    "\n",
    "# Print coefficients of the logistic regression model\n",
    "coefficients = model.coef_\n",
    "intercept = model.intercept_\n",
    "print(\"Coefficients:\")\n",
    "print(coefficients)\n",
    "print(\"Intercept:\")\n",
    "print(intercept)\n"
   ]
  },
  {
   "cell_type": "code",
   "execution_count": null,
   "id": "3ab38d0b-8e43-47cd-b976-510feef60f5f",
   "metadata": {},
   "outputs": [],
   "source": [
    "# Assume you have a trained regression model called 'regression_model'\n",
    "# and test data called 'X_test'\n",
    "\n",
    "# Step 1: Define Classes\n",
    "class_threshold = 7  # Example threshold value\n",
    "\n",
    "# Step 2: Predict Continuous Values\n",
    "predicted_values = regression_model.predict(X_test)\n",
    "\n",
    "# Step 3: Convert Predictions to Class Labels\n",
    "predicted_classes = [1 if val >= class_threshold else 0 for val in predicted_values]\n",
    "\n",
    "# Step 4: Evaluate the Classification Model\n",
    "from sklearn.metrics import accuracy_score, confusion_matrix, classification_report\n",
    "\n",
    "# Assuming 'y_test' contains the true class labels\n",
    "accuracy = accuracy_score(y_test, predicted_classes)\n",
    "conf_matrix = confusion_matrix(y_test, predicted_classes)\n",
    "class_report = classification_report(y_test, predicted_classes)\n",
    "\n",
    "print(\"Accuracy:\", accuracy)\n",
    "print(\"Confusion Matrix:\")\n",
    "print(conf_matrix)\n",
    "print(\"Classification Report:\")\n",
    "print(class_report)\n",
    "\n",
    "# Step 5: Adjust Threshold if Necessary and Repeat Steps 2-4\n"
   ]
  },
  {
   "cell_type": "code",
   "execution_count": null,
   "id": "1c8b0572-5f8c-4526-a40c-d425b939aa5a",
   "metadata": {},
   "outputs": [],
   "source": []
  },
  {
   "cell_type": "code",
   "execution_count": null,
   "id": "6a5fc7ce-a199-4b54-aa58-c060638710d6",
   "metadata": {},
   "outputs": [],
   "source": []
  }
 ],
 "metadata": {
  "kernelspec": {
   "display_name": "Python 3 (ipykernel)",
   "language": "python",
   "name": "python3"
  },
  "language_info": {
   "codemirror_mode": {
    "name": "ipython",
    "version": 3
   },
   "file_extension": ".py",
   "mimetype": "text/x-python",
   "name": "python",
   "nbconvert_exporter": "python",
   "pygments_lexer": "ipython3",
   "version": "3.11.7"
  }
 },
 "nbformat": 4,
 "nbformat_minor": 5
}
